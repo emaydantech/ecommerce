{
 "cells": [
  {
   "cell_type": "code",
   "execution_count": 1,
   "metadata": {},
   "outputs": [],
   "source": [
    "#importing libraries to connect to bigquery and convert to df\n",
    "from google.cloud import bigquery\n",
    "from google.oauth2 import service_account\n",
    "import os\n",
    "import db_dtypes\n",
    "\n",
    "#libraries to manipulate data\n",
    "import pandas as pd\n",
    "from datetime import datetime\n",
    "import numpy as np\n",
    "\n",
    "#libraries for visualisation\n",
    "import matplotlib.pyplot as plt\n",
    "import matplotlib.pylab as pylab\n",
    "import seaborn as sns\n",
    "\n",
    "#libraries for stats analysis\n",
    "from scipy import stats\n",
    "import statistics"
   ]
  },
  {
   "cell_type": "markdown",
   "metadata": {},
   "source": [
    "# *Getting data from Bigquery*"
   ]
  },
  {
   "cell_type": "code",
   "execution_count": 2,
   "metadata": {},
   "outputs": [],
   "source": [
    "#client defined\n",
    "client = bigquery.Client.from_service_account_json(r'C:\\Users\\ruskin.dantra\\Downloads\\possible-mini-project-2eee26ad7cb7.json',project='possible-mini-project')"
   ]
  },
  {
   "cell_type": "code",
   "execution_count": 3,
   "metadata": {},
   "outputs": [],
   "source": [
    "#table with most info required - department, sale price, cost price and various times\n",
    "dfcollectivetable = client.query(\"\"\"\n",
    "  SELECT oi.user_id as user_id, p.cost as cost, p.retail_price as retailprice, p.category as product_category, p.department as department, p.brand as brand, oi.created_at as created_at, oi.shipped_at as shipped_at, oi.sale_price as sale_price, oi.status as status, oi.returned_at as returnedat, p.distribution_center_id as distcenter, \n",
    "  user.country as country, user.gender as gender\n",
    "FROM `bigquery-public-data.thelook_ecommerce.products` as p \n",
    "JOIN `bigquery-public-data.thelook_ecommerce.order_items` as oi\n",
    "ON p.id = oi.product_id\n",
    "JOIN `bigquery-public-data.thelook_ecommerce.users` as user\n",
    "ON oi.user_id=user.id  \n",
    "\"\"\").to_dataframe()"
   ]
  },
  {
   "cell_type": "code",
   "execution_count": 4,
   "metadata": {},
   "outputs": [],
   "source": [
    "#query inventory table to datframe\n",
    "dfinventory = client.query(\"\"\"\n",
    " SELECT *\n",
    "FROM `bigquery-public-data.thelook_ecommerce.inventory_items` \n",
    " \"\"\").to_dataframe()"
   ]
  },
  {
   "cell_type": "code",
   "execution_count": 5,
   "metadata": {},
   "outputs": [],
   "source": [
    "#This query gives us the products table as a dataframe\n",
    "dfproducts = client.query(\"\"\"\n",
    "   SELECT *\n",
    "   \n",
    "FROM `bigquery-public-data.thelook_ecommerce.products` \n",
    " \"\"\").to_dataframe()"
   ]
  },
  {
   "cell_type": "code",
   "execution_count": 6,
   "metadata": {},
   "outputs": [],
   "source": [
    "#This query gives us the order_items table as a dataframe\n",
    "dforder_items = client.query(\"\"\"SELECT * FROM `bigquery-public-data.thelook_ecommerce.order_items`\"\"\").to_dataframe()"
   ]
  },
  {
   "cell_type": "code",
   "execution_count": 7,
   "metadata": {},
   "outputs": [],
   "source": [
    "#This query gives us the events table as a dataframe\n",
    "dfevents = client.query(\"\"\"SELECT * FROM `bigquery-public-data.thelook_ecommerce.events`\"\"\").to_dataframe()"
   ]
  },
  {
   "cell_type": "code",
   "execution_count": 8,
   "metadata": {},
   "outputs": [],
   "source": [
    "#this query gives us the orders table as a dataframe\n",
    "dforders = client.query(\"\"\"\n",
    "   SELECT *\n",
    "FROM `bigquery-public-data.thelook_ecommerce.orders` \n",
    "\n",
    " \"\"\").to_dataframe()"
   ]
  },
  {
   "cell_type": "code",
   "execution_count": 9,
   "metadata": {},
   "outputs": [],
   "source": [
    "#this query gives us the users table as a dataframe\n",
    "dfusers = client.query(\"\"\"\n",
    "   SELECT *\n",
    "FROM `bigquery-public-data.thelook_ecommerce.users` \n",
    "\n",
    " \"\"\").to_dataframe()"
   ]
  },
  {
   "cell_type": "markdown",
   "metadata": {},
   "source": [
    "# *Checking number of rows and columns*"
   ]
  },
  {
   "cell_type": "code",
   "execution_count": 10,
   "metadata": {},
   "outputs": [
    {
     "data": {
      "text/plain": [
       "(181269, 11)"
      ]
     },
     "execution_count": 10,
     "metadata": {},
     "output_type": "execute_result"
    }
   ],
   "source": [
    "dforder_items.shape"
   ]
  },
  {
   "cell_type": "code",
   "execution_count": 11,
   "metadata": {},
   "outputs": [
    {
     "data": {
      "text/plain": [
       "(124678, 9)"
      ]
     },
     "execution_count": 11,
     "metadata": {},
     "output_type": "execute_result"
    }
   ],
   "source": [
    "dforders.shape"
   ]
  },
  {
   "cell_type": "code",
   "execution_count": 12,
   "metadata": {},
   "outputs": [
    {
     "data": {
      "text/plain": [
       "(29120, 9)"
      ]
     },
     "execution_count": 12,
     "metadata": {},
     "output_type": "execute_result"
    }
   ],
   "source": [
    "dfproducts.shape"
   ]
  },
  {
   "cell_type": "code",
   "execution_count": 13,
   "metadata": {},
   "outputs": [
    {
     "data": {
      "text/plain": [
       "(489510, 12)"
      ]
     },
     "execution_count": 13,
     "metadata": {},
     "output_type": "execute_result"
    }
   ],
   "source": [
    "dfinventory.shape"
   ]
  },
  {
   "cell_type": "code",
   "execution_count": 14,
   "metadata": {},
   "outputs": [
    {
     "data": {
      "text/plain": [
       "(100000, 15)"
      ]
     },
     "execution_count": 14,
     "metadata": {},
     "output_type": "execute_result"
    }
   ],
   "source": [
    "dfusers.shape"
   ]
  },
  {
   "cell_type": "code",
   "execution_count": 15,
   "metadata": {},
   "outputs": [
    {
     "data": {
      "text/plain": [
       "(2428055, 13)"
      ]
     },
     "execution_count": 15,
     "metadata": {},
     "output_type": "execute_result"
    }
   ],
   "source": [
    "dfevents.shape"
   ]
  },
  {
   "cell_type": "code",
   "execution_count": 16,
   "metadata": {},
   "outputs": [
    {
     "data": {
      "text/plain": [
       "(181269, 14)"
      ]
     },
     "execution_count": 16,
     "metadata": {},
     "output_type": "execute_result"
    }
   ],
   "source": [
    "dfcollectivetable.shape"
   ]
  },
  {
   "cell_type": "markdown",
   "metadata": {},
   "source": [
    "**Collective table has same number of rows as order items.  This shows that the result is what we wanted, order items linked to product tables and users table.**"
   ]
  },
  {
   "cell_type": "markdown",
   "metadata": {},
   "source": [
    "# *Initial exploration*"
   ]
  },
  {
   "cell_type": "code",
   "execution_count": 17,
   "metadata": {},
   "outputs": [
    {
     "data": {
      "text/html": [
       "<div>\n",
       "<style scoped>\n",
       "    .dataframe tbody tr th:only-of-type {\n",
       "        vertical-align: middle;\n",
       "    }\n",
       "\n",
       "    .dataframe tbody tr th {\n",
       "        vertical-align: top;\n",
       "    }\n",
       "\n",
       "    .dataframe thead th {\n",
       "        text-align: right;\n",
       "    }\n",
       "</style>\n",
       "<table border=\"1\" class=\"dataframe\">\n",
       "  <thead>\n",
       "    <tr style=\"text-align: right;\">\n",
       "      <th></th>\n",
       "      <th>order_id</th>\n",
       "      <th>user_id</th>\n",
       "      <th>status</th>\n",
       "      <th>gender</th>\n",
       "      <th>created_at</th>\n",
       "      <th>returned_at</th>\n",
       "      <th>shipped_at</th>\n",
       "      <th>delivered_at</th>\n",
       "      <th>num_of_item</th>\n",
       "    </tr>\n",
       "  </thead>\n",
       "  <tbody>\n",
       "    <tr>\n",
       "      <th>0</th>\n",
       "      <td>15</td>\n",
       "      <td>11</td>\n",
       "      <td>Shipped</td>\n",
       "      <td>F</td>\n",
       "      <td>2022-08-18 12:13:00+00:00</td>\n",
       "      <td>NaT</td>\n",
       "      <td>2022-08-20 21:02:00+00:00</td>\n",
       "      <td>NaT</td>\n",
       "      <td>1</td>\n",
       "    </tr>\n",
       "    <tr>\n",
       "      <th>1</th>\n",
       "      <td>18</td>\n",
       "      <td>15</td>\n",
       "      <td>Shipped</td>\n",
       "      <td>F</td>\n",
       "      <td>2022-12-02 16:11:00+00:00</td>\n",
       "      <td>NaT</td>\n",
       "      <td>2022-12-05 00:29:00+00:00</td>\n",
       "      <td>NaT</td>\n",
       "      <td>1</td>\n",
       "    </tr>\n",
       "    <tr>\n",
       "      <th>2</th>\n",
       "      <td>26</td>\n",
       "      <td>21</td>\n",
       "      <td>Shipped</td>\n",
       "      <td>F</td>\n",
       "      <td>2021-10-18 18:17:00+00:00</td>\n",
       "      <td>NaT</td>\n",
       "      <td>2021-10-21 10:46:00+00:00</td>\n",
       "      <td>NaT</td>\n",
       "      <td>1</td>\n",
       "    </tr>\n",
       "    <tr>\n",
       "      <th>3</th>\n",
       "      <td>27</td>\n",
       "      <td>22</td>\n",
       "      <td>Shipped</td>\n",
       "      <td>F</td>\n",
       "      <td>2022-07-28 11:56:00+00:00</td>\n",
       "      <td>NaT</td>\n",
       "      <td>2022-07-30 05:46:00+00:00</td>\n",
       "      <td>NaT</td>\n",
       "      <td>1</td>\n",
       "    </tr>\n",
       "    <tr>\n",
       "      <th>4</th>\n",
       "      <td>53</td>\n",
       "      <td>38</td>\n",
       "      <td>Shipped</td>\n",
       "      <td>F</td>\n",
       "      <td>2019-08-16 00:36:00+00:00</td>\n",
       "      <td>NaT</td>\n",
       "      <td>2019-08-18 06:12:00+00:00</td>\n",
       "      <td>NaT</td>\n",
       "      <td>2</td>\n",
       "    </tr>\n",
       "    <tr>\n",
       "      <th>...</th>\n",
       "      <td>...</td>\n",
       "      <td>...</td>\n",
       "      <td>...</td>\n",
       "      <td>...</td>\n",
       "      <td>...</td>\n",
       "      <td>...</td>\n",
       "      <td>...</td>\n",
       "      <td>...</td>\n",
       "      <td>...</td>\n",
       "    </tr>\n",
       "    <tr>\n",
       "      <th>124673</th>\n",
       "      <td>124585</td>\n",
       "      <td>99938</td>\n",
       "      <td>Processing</td>\n",
       "      <td>M</td>\n",
       "      <td>2022-02-24 00:21:00+00:00</td>\n",
       "      <td>NaT</td>\n",
       "      <td>NaT</td>\n",
       "      <td>NaT</td>\n",
       "      <td>2</td>\n",
       "    </tr>\n",
       "    <tr>\n",
       "      <th>124674</th>\n",
       "      <td>124591</td>\n",
       "      <td>99940</td>\n",
       "      <td>Processing</td>\n",
       "      <td>M</td>\n",
       "      <td>2022-12-01 14:28:00+00:00</td>\n",
       "      <td>NaT</td>\n",
       "      <td>NaT</td>\n",
       "      <td>NaT</td>\n",
       "      <td>1</td>\n",
       "    </tr>\n",
       "    <tr>\n",
       "      <th>124675</th>\n",
       "      <td>124601</td>\n",
       "      <td>99946</td>\n",
       "      <td>Processing</td>\n",
       "      <td>M</td>\n",
       "      <td>2022-03-03 09:05:00+00:00</td>\n",
       "      <td>NaT</td>\n",
       "      <td>NaT</td>\n",
       "      <td>NaT</td>\n",
       "      <td>1</td>\n",
       "    </tr>\n",
       "    <tr>\n",
       "      <th>124676</th>\n",
       "      <td>124614</td>\n",
       "      <td>99953</td>\n",
       "      <td>Processing</td>\n",
       "      <td>M</td>\n",
       "      <td>2022-01-01 15:19:00+00:00</td>\n",
       "      <td>NaT</td>\n",
       "      <td>NaT</td>\n",
       "      <td>NaT</td>\n",
       "      <td>1</td>\n",
       "    </tr>\n",
       "    <tr>\n",
       "      <th>124677</th>\n",
       "      <td>124668</td>\n",
       "      <td>99989</td>\n",
       "      <td>Processing</td>\n",
       "      <td>M</td>\n",
       "      <td>2022-06-03 13:07:00+00:00</td>\n",
       "      <td>NaT</td>\n",
       "      <td>NaT</td>\n",
       "      <td>NaT</td>\n",
       "      <td>1</td>\n",
       "    </tr>\n",
       "  </tbody>\n",
       "</table>\n",
       "<p>124678 rows × 9 columns</p>\n",
       "</div>"
      ],
      "text/plain": [
       "        order_id  user_id      status gender                created_at  \\\n",
       "0             15       11     Shipped      F 2022-08-18 12:13:00+00:00   \n",
       "1             18       15     Shipped      F 2022-12-02 16:11:00+00:00   \n",
       "2             26       21     Shipped      F 2021-10-18 18:17:00+00:00   \n",
       "3             27       22     Shipped      F 2022-07-28 11:56:00+00:00   \n",
       "4             53       38     Shipped      F 2019-08-16 00:36:00+00:00   \n",
       "...          ...      ...         ...    ...                       ...   \n",
       "124673    124585    99938  Processing      M 2022-02-24 00:21:00+00:00   \n",
       "124674    124591    99940  Processing      M 2022-12-01 14:28:00+00:00   \n",
       "124675    124601    99946  Processing      M 2022-03-03 09:05:00+00:00   \n",
       "124676    124614    99953  Processing      M 2022-01-01 15:19:00+00:00   \n",
       "124677    124668    99989  Processing      M 2022-06-03 13:07:00+00:00   \n",
       "\n",
       "       returned_at                shipped_at delivered_at  num_of_item  \n",
       "0              NaT 2022-08-20 21:02:00+00:00          NaT            1  \n",
       "1              NaT 2022-12-05 00:29:00+00:00          NaT            1  \n",
       "2              NaT 2021-10-21 10:46:00+00:00          NaT            1  \n",
       "3              NaT 2022-07-30 05:46:00+00:00          NaT            1  \n",
       "4              NaT 2019-08-18 06:12:00+00:00          NaT            2  \n",
       "...            ...                       ...          ...          ...  \n",
       "124673         NaT                       NaT          NaT            2  \n",
       "124674         NaT                       NaT          NaT            1  \n",
       "124675         NaT                       NaT          NaT            1  \n",
       "124676         NaT                       NaT          NaT            1  \n",
       "124677         NaT                       NaT          NaT            1  \n",
       "\n",
       "[124678 rows x 9 columns]"
      ]
     },
     "execution_count": 17,
     "metadata": {},
     "output_type": "execute_result"
    }
   ],
   "source": [
    "#check null values in orders table\n",
    "dforders.isnull().sum()\n",
    "dforders"
   ]
  },
  {
   "cell_type": "markdown",
   "metadata": {},
   "source": [
    "**Many values null in returned_at this is sensible. it means the item has not been returned. Many values null in shipped_At again this implies item is yet to be shipped.  Many values null in delivered_at, implies item is in the process of delivery depending on shipping status - could be still processing.**"
   ]
  },
  {
   "cell_type": "code",
   "execution_count": 18,
   "metadata": {},
   "outputs": [
    {
     "data": {
      "text/plain": [
       "id                         0\n",
       "cost                       0\n",
       "category                   0\n",
       "name                       2\n",
       "brand                     24\n",
       "retail_price               0\n",
       "department                 0\n",
       "sku                        0\n",
       "distribution_center_id     0\n",
       "dtype: int64"
      ]
     },
     "execution_count": 18,
     "metadata": {},
     "output_type": "execute_result"
    }
   ],
   "source": [
    "#check null values in products table\n",
    "dfproducts.isnull().sum()"
   ]
  },
  {
   "cell_type": "code",
   "execution_count": 19,
   "metadata": {},
   "outputs": [],
   "source": [
    "#empty values in brand, we are not going to fill them because this could be because brand is unknown\n",
    "#we need to create a new feature profit"
   ]
  },
  {
   "cell_type": "code",
   "execution_count": 19,
   "metadata": {},
   "outputs": [
    {
     "data": {
      "text/plain": [
       "id                0\n",
       "first_name        0\n",
       "last_name         0\n",
       "email             0\n",
       "age               0\n",
       "gender            0\n",
       "state             0\n",
       "street_address    0\n",
       "postal_code       0\n",
       "city              0\n",
       "country           0\n",
       "latitude          0\n",
       "longitude         0\n",
       "traffic_source    0\n",
       "created_at        0\n",
       "dtype: int64"
      ]
     },
     "execution_count": 19,
     "metadata": {},
     "output_type": "execute_result"
    }
   ],
   "source": [
    "#check null values in users table\n",
    "dfusers.isnull().sum()"
   ]
  },
  {
   "cell_type": "code",
   "execution_count": 20,
   "metadata": {},
   "outputs": [
    {
     "data": {
      "text/plain": [
       "id                       0\n",
       "user_id            1124790\n",
       "sequence_number          0\n",
       "session_id               0\n",
       "created_at               0\n",
       "ip_address               0\n",
       "city                     0\n",
       "state                    0\n",
       "postal_code              0\n",
       "browser                  0\n",
       "traffic_source           0\n",
       "uri                      0\n",
       "event_type               0\n",
       "dtype: int64"
      ]
     },
     "execution_count": 20,
     "metadata": {},
     "output_type": "execute_result"
    }
   ],
   "source": [
    "#check null values in users table\n",
    "dfevents.isnull().sum()"
   ]
  },
  {
   "cell_type": "markdown",
   "metadata": {},
   "source": [
    "**Data is fairly clean owing to its nature(synthetic). There is no need to fill missing values**"
   ]
  },
  {
   "cell_type": "code",
   "execution_count": null,
   "metadata": {},
   "outputs": [],
   "source": []
  },
  {
   "cell_type": "markdown",
   "metadata": {},
   "source": [
    "# *Creating new features*"
   ]
  },
  {
   "cell_type": "code",
   "execution_count": 55,
   "metadata": {},
   "outputs": [],
   "source": [
    "# We will create new features in the data\n",
    "#1. profit per unit\n",
    "#2. customer type - new or existing\n",
    "#3. percentage discount applied"
   ]
  },
  {
   "cell_type": "markdown",
   "metadata": {},
   "source": [
    " **Profit**"
   ]
  },
  {
   "cell_type": "code",
   "execution_count": 21,
   "metadata": {},
   "outputs": [],
   "source": [
    "dfcollectivetable['profit'] = dfcollectivetable['sale_price']-dfcollectivetable['cost']"
   ]
  },
  {
   "cell_type": "code",
   "execution_count": 22,
   "metadata": {},
   "outputs": [
    {
     "data": {
      "text/plain": [
       "0          5.66400\n",
       "1          5.66400\n",
       "2          5.66400\n",
       "3          5.66400\n",
       "4          5.66400\n",
       "            ...   \n",
       "181264    13.45704\n",
       "181265    13.45704\n",
       "181266    13.45704\n",
       "181267    13.45704\n",
       "181268    13.45704\n",
       "Name: profit, Length: 181269, dtype: float64"
      ]
     },
     "execution_count": 22,
     "metadata": {},
     "output_type": "execute_result"
    }
   ],
   "source": [
    "dfcollectivetable['profit']"
   ]
  },
  {
   "cell_type": "markdown",
   "metadata": {},
   "source": [
    "\n",
    "**Created a column with profit per item**"
   ]
  },
  {
   "cell_type": "markdown",
   "metadata": {},
   "source": [
    "**Customer Type**"
   ]
  },
  {
   "cell_type": "code",
   "execution_count": 23,
   "metadata": {},
   "outputs": [],
   "source": [
    "#checks if user_id is duplicated and assigns new or existing labels\n",
    "#first set created_At as index to ensure data is ordered by timestamp\n",
    "orders_daily = dfcollectivetable.set_index('created_at')\n",
    "orders_daily = orders_daily.assign(custType=np.where(~orders_daily['user_id'].duplicated(),'New','Existing'))"
   ]
  },
  {
   "cell_type": "code",
   "execution_count": 24,
   "metadata": {},
   "outputs": [],
   "source": [
    "#created a column with customer type"
   ]
  },
  {
   "cell_type": "markdown",
   "metadata": {},
   "source": [
    "**Percentage discount**"
   ]
  },
  {
   "cell_type": "code",
   "execution_count": 25,
   "metadata": {},
   "outputs": [],
   "source": [
    "#created a percent disc column\n",
    "orders_daily['percentDisc'] = ((orders_daily['retailprice']-orders_daily['sale_price'])/orders_daily['retailprice'])*100"
   ]
  },
  {
   "cell_type": "code",
   "execution_count": 26,
   "metadata": {},
   "outputs": [
    {
     "data": {
      "text/plain": [
       "created_at\n",
       "2021-09-08 14:32:00+00:00    0.0\n",
       "2022-12-04 03:36:03+00:00    0.0\n",
       "2021-02-21 04:08:35+00:00    0.0\n",
       "2022-12-09 02:47:33+00:00    0.0\n",
       "2022-03-18 04:43:55+00:00    0.0\n",
       "                            ... \n",
       "2022-07-24 01:26:29+00:00    0.0\n",
       "2022-10-05 13:17:37+00:00    0.0\n",
       "2022-11-01 15:00:58+00:00    0.0\n",
       "2022-06-21 13:28:02+00:00    0.0\n",
       "2022-05-22 23:55:46+00:00    0.0\n",
       "Name: percentDisc, Length: 181269, dtype: float64"
      ]
     },
     "execution_count": 26,
     "metadata": {},
     "output_type": "execute_result"
    }
   ],
   "source": [
    "orders_daily['percentDisc']"
   ]
  },
  {
   "cell_type": "code",
   "execution_count": 27,
   "metadata": {},
   "outputs": [],
   "source": [
    "sns.set()"
   ]
  },
  {
   "cell_type": "markdown",
   "metadata": {},
   "source": [
    "# *Profit and Revenue analysis*"
   ]
  },
  {
   "cell_type": "code",
   "execution_count": 28,
   "metadata": {},
   "outputs": [],
   "source": [
    "#profit over time\n",
    "profitOvertime = orders_daily.groupby([orders_daily.index.year, orders_daily.index.month])['profit'].sum()\n",
    "\n"
   ]
  },
  {
   "cell_type": "code",
   "execution_count": 29,
   "metadata": {},
   "outputs": [
    {
     "data": {
      "image/png": "[encoded data removed]",
      "text/plain": [
       "<Figure size 3000x1200 with 1 Axes>"
      ]
     },
     "metadata": {},
     "output_type": "display_data"
    }
   ],
   "source": [
    "#revenue over time\n",
    "orders_dailyrevenue = orders_daily.groupby([orders_daily.index.year, orders_daily.index.month])['sale_price'].sum()\n",
    "plt.figure(figsize=(20,8), dpi=150)\n",
    "profitOvertime.plot(color='r', marker='o')\n",
    "orders_dailyrevenue.plot(color='b',marker='o')\n",
    "plt.title('Profit and Revenue over time')\n",
    "plt.legend()\n",
    "plt.xlabel('year,month')\n",
    "plt.savefig('profitRevenue')\n"
   ]
  },
  {
   "cell_type": "markdown",
   "metadata": {},
   "source": [
    "**CUSTOMER NUMBERS - GROWTH**"
   ]
  },
  {
   "cell_type": "code",
   "execution_count": 30,
   "metadata": {},
   "outputs": [],
   "source": [
    "#growth by customer type\n",
    "dfnumber_grouped_custType = (orders_daily.groupby([(orders_daily.index.year), (orders_daily.index.month),'custType' ])).size().to_frame()"
   ]
  },
  {
   "cell_type": "code",
   "execution_count": 31,
   "metadata": {},
   "outputs": [
    {
     "data": {
      "text/html": [
       "<div>\n",
       "<style scoped>\n",
       "    .dataframe tbody tr th:only-of-type {\n",
       "        vertical-align: middle;\n",
       "    }\n",
       "\n",
       "    .dataframe tbody tr th {\n",
       "        vertical-align: top;\n",
       "    }\n",
       "\n",
       "    .dataframe thead th {\n",
       "        text-align: right;\n",
       "    }\n",
       "</style>\n",
       "<table border=\"1\" class=\"dataframe\">\n",
       "  <thead>\n",
       "    <tr style=\"text-align: right;\">\n",
       "      <th></th>\n",
       "      <th></th>\n",
       "      <th></th>\n",
       "      <th>0</th>\n",
       "    </tr>\n",
       "    <tr>\n",
       "      <th>created_at</th>\n",
       "      <th>created_at</th>\n",
       "      <th>custType</th>\n",
       "      <th></th>\n",
       "    </tr>\n",
       "  </thead>\n",
       "  <tbody>\n",
       "    <tr>\n",
       "      <th rowspan=\"5\" valign=\"top\">2019</th>\n",
       "      <th rowspan=\"2\" valign=\"top\">1</th>\n",
       "      <th>Existing</th>\n",
       "      <td>26</td>\n",
       "    </tr>\n",
       "    <tr>\n",
       "      <th>New</th>\n",
       "      <td>20</td>\n",
       "    </tr>\n",
       "    <tr>\n",
       "      <th rowspan=\"2\" valign=\"top\">2</th>\n",
       "      <th>Existing</th>\n",
       "      <td>53</td>\n",
       "    </tr>\n",
       "    <tr>\n",
       "      <th>New</th>\n",
       "      <td>53</td>\n",
       "    </tr>\n",
       "    <tr>\n",
       "      <th>3</th>\n",
       "      <th>Existing</th>\n",
       "      <td>122</td>\n",
       "    </tr>\n",
       "    <tr>\n",
       "      <th>...</th>\n",
       "      <th>...</th>\n",
       "      <th>...</th>\n",
       "      <td>...</td>\n",
       "    </tr>\n",
       "    <tr>\n",
       "      <th rowspan=\"5\" valign=\"top\">2022</th>\n",
       "      <th>10</th>\n",
       "      <th>New</th>\n",
       "      <td>5196</td>\n",
       "    </tr>\n",
       "    <tr>\n",
       "      <th rowspan=\"2\" valign=\"top\">11</th>\n",
       "      <th>Existing</th>\n",
       "      <td>7765</td>\n",
       "    </tr>\n",
       "    <tr>\n",
       "      <th>New</th>\n",
       "      <td>6134</td>\n",
       "    </tr>\n",
       "    <tr>\n",
       "      <th rowspan=\"2\" valign=\"top\">12</th>\n",
       "      <th>Existing</th>\n",
       "      <td>9868</td>\n",
       "    </tr>\n",
       "    <tr>\n",
       "      <th>New</th>\n",
       "      <td>7540</td>\n",
       "    </tr>\n",
       "  </tbody>\n",
       "</table>\n",
       "<p>96 rows × 1 columns</p>\n",
       "</div>"
      ],
      "text/plain": [
       "                                   0\n",
       "created_at created_at custType      \n",
       "2019       1          Existing    26\n",
       "                      New         20\n",
       "           2          Existing    53\n",
       "                      New         53\n",
       "           3          Existing   122\n",
       "...                              ...\n",
       "2022       10         New       5196\n",
       "           11         Existing  7765\n",
       "                      New       6134\n",
       "           12         Existing  9868\n",
       "                      New       7540\n",
       "\n",
       "[96 rows x 1 columns]"
      ]
     },
     "execution_count": 31,
     "metadata": {},
     "output_type": "execute_result"
    }
   ],
   "source": [
    "dfnumber_grouped_custType"
   ]
  },
  {
   "cell_type": "code",
   "execution_count": 32,
   "metadata": {},
   "outputs": [],
   "source": [
    "#unstacking the df\n",
    "unstackednumberBycustType = dfnumber_grouped_custType.unstack(level=2)"
   ]
  },
  {
   "cell_type": "code",
   "execution_count": 33,
   "metadata": {},
   "outputs": [
    {
     "data": {
      "text/html": [
       "<div>\n",
       "<style scoped>\n",
       "    .dataframe tbody tr th:only-of-type {\n",
       "        vertical-align: middle;\n",
       "    }\n",
       "\n",
       "    .dataframe tbody tr th {\n",
       "        vertical-align: top;\n",
       "    }\n",
       "\n",
       "    .dataframe thead tr th {\n",
       "        text-align: left;\n",
       "    }\n",
       "\n",
       "    .dataframe thead tr:last-of-type th {\n",
       "        text-align: right;\n",
       "    }\n",
       "</style>\n",
       "<table border=\"1\" class=\"dataframe\">\n",
       "  <thead>\n",
       "    <tr>\n",
       "      <th></th>\n",
       "      <th></th>\n",
       "      <th colspan=\"2\" halign=\"left\">0</th>\n",
       "    </tr>\n",
       "    <tr>\n",
       "      <th></th>\n",
       "      <th>custType</th>\n",
       "      <th>Existing</th>\n",
       "      <th>New</th>\n",
       "    </tr>\n",
       "    <tr>\n",
       "      <th>created_at</th>\n",
       "      <th>created_at</th>\n",
       "      <th></th>\n",
       "      <th></th>\n",
       "    </tr>\n",
       "  </thead>\n",
       "  <tbody>\n",
       "    <tr>\n",
       "      <th rowspan=\"12\" valign=\"top\">2019</th>\n",
       "      <th>1</th>\n",
       "      <td>26</td>\n",
       "      <td>20</td>\n",
       "    </tr>\n",
       "    <tr>\n",
       "      <th>2</th>\n",
       "      <td>53</td>\n",
       "      <td>53</td>\n",
       "    </tr>\n",
       "    <tr>\n",
       "      <th>3</th>\n",
       "      <td>122</td>\n",
       "      <td>97</td>\n",
       "    </tr>\n",
       "    <tr>\n",
       "      <th>4</th>\n",
       "      <td>166</td>\n",
       "      <td>132</td>\n",
       "    </tr>\n",
       "    <tr>\n",
       "      <th>5</th>\n",
       "      <td>225</td>\n",
       "      <td>167</td>\n",
       "    </tr>\n",
       "    <tr>\n",
       "      <th>6</th>\n",
       "      <td>236</td>\n",
       "      <td>187</td>\n",
       "    </tr>\n",
       "    <tr>\n",
       "      <th>7</th>\n",
       "      <td>299</td>\n",
       "      <td>229</td>\n",
       "    </tr>\n",
       "    <tr>\n",
       "      <th>8</th>\n",
       "      <td>336</td>\n",
       "      <td>263</td>\n",
       "    </tr>\n",
       "    <tr>\n",
       "      <th>9</th>\n",
       "      <td>404</td>\n",
       "      <td>351</td>\n",
       "    </tr>\n",
       "    <tr>\n",
       "      <th>10</th>\n",
       "      <td>467</td>\n",
       "      <td>374</td>\n",
       "    </tr>\n",
       "    <tr>\n",
       "      <th>11</th>\n",
       "      <td>524</td>\n",
       "      <td>415</td>\n",
       "    </tr>\n",
       "    <tr>\n",
       "      <th>12</th>\n",
       "      <td>594</td>\n",
       "      <td>440</td>\n",
       "    </tr>\n",
       "    <tr>\n",
       "      <th rowspan=\"12\" valign=\"top\">2020</th>\n",
       "      <th>1</th>\n",
       "      <td>629</td>\n",
       "      <td>481</td>\n",
       "    </tr>\n",
       "    <tr>\n",
       "      <th>2</th>\n",
       "      <td>701</td>\n",
       "      <td>543</td>\n",
       "    </tr>\n",
       "    <tr>\n",
       "      <th>3</th>\n",
       "      <td>798</td>\n",
       "      <td>606</td>\n",
       "    </tr>\n",
       "    <tr>\n",
       "      <th>4</th>\n",
       "      <td>789</td>\n",
       "      <td>627</td>\n",
       "    </tr>\n",
       "    <tr>\n",
       "      <th>5</th>\n",
       "      <td>905</td>\n",
       "      <td>738</td>\n",
       "    </tr>\n",
       "    <tr>\n",
       "      <th>6</th>\n",
       "      <td>842</td>\n",
       "      <td>711</td>\n",
       "    </tr>\n",
       "    <tr>\n",
       "      <th>7</th>\n",
       "      <td>1070</td>\n",
       "      <td>822</td>\n",
       "    </tr>\n",
       "    <tr>\n",
       "      <th>8</th>\n",
       "      <td>1133</td>\n",
       "      <td>852</td>\n",
       "    </tr>\n",
       "    <tr>\n",
       "      <th>9</th>\n",
       "      <td>1230</td>\n",
       "      <td>975</td>\n",
       "    </tr>\n",
       "    <tr>\n",
       "      <th>10</th>\n",
       "      <td>1273</td>\n",
       "      <td>1038</td>\n",
       "    </tr>\n",
       "    <tr>\n",
       "      <th>11</th>\n",
       "      <td>1261</td>\n",
       "      <td>1037</td>\n",
       "    </tr>\n",
       "    <tr>\n",
       "      <th>12</th>\n",
       "      <td>1424</td>\n",
       "      <td>1165</td>\n",
       "    </tr>\n",
       "    <tr>\n",
       "      <th rowspan=\"12\" valign=\"top\">2021</th>\n",
       "      <th>1</th>\n",
       "      <td>1568</td>\n",
       "      <td>1246</td>\n",
       "    </tr>\n",
       "    <tr>\n",
       "      <th>2</th>\n",
       "      <td>1432</td>\n",
       "      <td>1109</td>\n",
       "    </tr>\n",
       "    <tr>\n",
       "      <th>3</th>\n",
       "      <td>1624</td>\n",
       "      <td>1317</td>\n",
       "    </tr>\n",
       "    <tr>\n",
       "      <th>4</th>\n",
       "      <td>1736</td>\n",
       "      <td>1384</td>\n",
       "    </tr>\n",
       "    <tr>\n",
       "      <th>5</th>\n",
       "      <td>1891</td>\n",
       "      <td>1517</td>\n",
       "    </tr>\n",
       "    <tr>\n",
       "      <th>6</th>\n",
       "      <td>2009</td>\n",
       "      <td>1492</td>\n",
       "    </tr>\n",
       "    <tr>\n",
       "      <th>7</th>\n",
       "      <td>2258</td>\n",
       "      <td>1652</td>\n",
       "    </tr>\n",
       "    <tr>\n",
       "      <th>8</th>\n",
       "      <td>2291</td>\n",
       "      <td>1833</td>\n",
       "    </tr>\n",
       "    <tr>\n",
       "      <th>9</th>\n",
       "      <td>2444</td>\n",
       "      <td>1838</td>\n",
       "    </tr>\n",
       "    <tr>\n",
       "      <th>10</th>\n",
       "      <td>2582</td>\n",
       "      <td>1941</td>\n",
       "    </tr>\n",
       "    <tr>\n",
       "      <th>11</th>\n",
       "      <td>2663</td>\n",
       "      <td>2139</td>\n",
       "    </tr>\n",
       "    <tr>\n",
       "      <th>12</th>\n",
       "      <td>2886</td>\n",
       "      <td>2297</td>\n",
       "    </tr>\n",
       "    <tr>\n",
       "      <th rowspan=\"12\" valign=\"top\">2022</th>\n",
       "      <th>1</th>\n",
       "      <td>3080</td>\n",
       "      <td>2406</td>\n",
       "    </tr>\n",
       "    <tr>\n",
       "      <th>2</th>\n",
       "      <td>2920</td>\n",
       "      <td>2373</td>\n",
       "    </tr>\n",
       "    <tr>\n",
       "      <th>3</th>\n",
       "      <td>3431</td>\n",
       "      <td>2706</td>\n",
       "    </tr>\n",
       "    <tr>\n",
       "      <th>4</th>\n",
       "      <td>3678</td>\n",
       "      <td>2876</td>\n",
       "    </tr>\n",
       "    <tr>\n",
       "      <th>5</th>\n",
       "      <td>3854</td>\n",
       "      <td>3114</td>\n",
       "    </tr>\n",
       "    <tr>\n",
       "      <th>6</th>\n",
       "      <td>4188</td>\n",
       "      <td>3311</td>\n",
       "    </tr>\n",
       "    <tr>\n",
       "      <th>7</th>\n",
       "      <td>4696</td>\n",
       "      <td>3577</td>\n",
       "    </tr>\n",
       "    <tr>\n",
       "      <th>8</th>\n",
       "      <td>5229</td>\n",
       "      <td>4129</td>\n",
       "    </tr>\n",
       "    <tr>\n",
       "      <th>9</th>\n",
       "      <td>5515</td>\n",
       "      <td>4337</td>\n",
       "    </tr>\n",
       "    <tr>\n",
       "      <th>10</th>\n",
       "      <td>6367</td>\n",
       "      <td>5196</td>\n",
       "    </tr>\n",
       "    <tr>\n",
       "      <th>11</th>\n",
       "      <td>7765</td>\n",
       "      <td>6134</td>\n",
       "    </tr>\n",
       "    <tr>\n",
       "      <th>12</th>\n",
       "      <td>9868</td>\n",
       "      <td>7540</td>\n",
       "    </tr>\n",
       "  </tbody>\n",
       "</table>\n",
       "</div>"
      ],
      "text/plain": [
       "                             0      \n",
       "custType              Existing   New\n",
       "created_at created_at               \n",
       "2019       1                26    20\n",
       "           2                53    53\n",
       "           3               122    97\n",
       "           4               166   132\n",
       "           5               225   167\n",
       "           6               236   187\n",
       "           7               299   229\n",
       "           8               336   263\n",
       "           9               404   351\n",
       "           10              467   374\n",
       "           11              524   415\n",
       "           12              594   440\n",
       "2020       1               629   481\n",
       "           2               701   543\n",
       "           3               798   606\n",
       "           4               789   627\n",
       "           5               905   738\n",
       "           6               842   711\n",
       "           7              1070   822\n",
       "           8              1133   852\n",
       "           9              1230   975\n",
       "           10             1273  1038\n",
       "           11             1261  1037\n",
       "           12             1424  1165\n",
       "2021       1              1568  1246\n",
       "           2              1432  1109\n",
       "           3              1624  1317\n",
       "           4              1736  1384\n",
       "           5              1891  1517\n",
       "           6              2009  1492\n",
       "           7              2258  1652\n",
       "           8              2291  1833\n",
       "           9              2444  1838\n",
       "           10             2582  1941\n",
       "           11             2663  2139\n",
       "           12             2886  2297\n",
       "2022       1              3080  2406\n",
       "           2              2920  2373\n",
       "           3              3431  2706\n",
       "           4              3678  2876\n",
       "           5              3854  3114\n",
       "           6              4188  3311\n",
       "           7              4696  3577\n",
       "           8              5229  4129\n",
       "           9              5515  4337\n",
       "           10             6367  5196\n",
       "           11             7765  6134\n",
       "           12             9868  7540"
      ]
     },
     "execution_count": 33,
     "metadata": {},
     "output_type": "execute_result"
    }
   ],
   "source": [
    "unstackednumberBycustType "
   ]
  },
  {
   "cell_type": "code",
   "execution_count": null,
   "metadata": {},
   "outputs": [],
   "source": []
  },
  {
   "cell_type": "code",
   "execution_count": null,
   "metadata": {},
   "outputs": [],
   "source": []
  },
  {
   "cell_type": "markdown",
   "metadata": {},
   "source": [
    "**REVENUE - GROWTH BY TYPE OF CUSTOMER**"
   ]
  },
  {
   "cell_type": "code",
   "execution_count": 34,
   "metadata": {},
   "outputs": [],
   "source": [
    "#revenue by cust type\n",
    "dfsales_grouped_custType = (orders_daily.groupby([(orders_daily.index.year), (orders_daily.index.month),'custType' ]))['sale_price'].sum().to_frame()"
   ]
  },
  {
   "cell_type": "code",
   "execution_count": 35,
   "metadata": {},
   "outputs": [
    {
     "data": {
      "text/html": [
       "<div>\n",
       "<style scoped>\n",
       "    .dataframe tbody tr th:only-of-type {\n",
       "        vertical-align: middle;\n",
       "    }\n",
       "\n",
       "    .dataframe tbody tr th {\n",
       "        vertical-align: top;\n",
       "    }\n",
       "\n",
       "    .dataframe thead th {\n",
       "        text-align: right;\n",
       "    }\n",
       "</style>\n",
       "<table border=\"1\" class=\"dataframe\">\n",
       "  <thead>\n",
       "    <tr style=\"text-align: right;\">\n",
       "      <th></th>\n",
       "      <th></th>\n",
       "      <th></th>\n",
       "      <th>sale_price</th>\n",
       "    </tr>\n",
       "    <tr>\n",
       "      <th>created_at</th>\n",
       "      <th>created_at</th>\n",
       "      <th>custType</th>\n",
       "      <th></th>\n",
       "    </tr>\n",
       "  </thead>\n",
       "  <tbody>\n",
       "    <tr>\n",
       "      <th rowspan=\"5\" valign=\"top\">2019</th>\n",
       "      <th rowspan=\"2\" valign=\"top\">1</th>\n",
       "      <th>Existing</th>\n",
       "      <td>1537.589998</td>\n",
       "    </tr>\n",
       "    <tr>\n",
       "      <th>New</th>\n",
       "      <td>1705.679987</td>\n",
       "    </tr>\n",
       "    <tr>\n",
       "      <th rowspan=\"2\" valign=\"top\">2</th>\n",
       "      <th>Existing</th>\n",
       "      <td>2700.340003</td>\n",
       "    </tr>\n",
       "    <tr>\n",
       "      <th>New</th>\n",
       "      <td>3433.789994</td>\n",
       "    </tr>\n",
       "    <tr>\n",
       "      <th>3</th>\n",
       "      <th>Existing</th>\n",
       "      <td>6744.629979</td>\n",
       "    </tr>\n",
       "    <tr>\n",
       "      <th>...</th>\n",
       "      <th>...</th>\n",
       "      <th>...</th>\n",
       "      <td>...</td>\n",
       "    </tr>\n",
       "    <tr>\n",
       "      <th rowspan=\"5\" valign=\"top\">2022</th>\n",
       "      <th>10</th>\n",
       "      <th>New</th>\n",
       "      <td>304746.500385</td>\n",
       "    </tr>\n",
       "    <tr>\n",
       "      <th rowspan=\"2\" valign=\"top\">11</th>\n",
       "      <th>Existing</th>\n",
       "      <td>458957.200401</td>\n",
       "    </tr>\n",
       "    <tr>\n",
       "      <th>New</th>\n",
       "      <td>363297.300379</td>\n",
       "    </tr>\n",
       "    <tr>\n",
       "      <th rowspan=\"2\" valign=\"top\">12</th>\n",
       "      <th>Existing</th>\n",
       "      <td>568951.130536</td>\n",
       "    </tr>\n",
       "    <tr>\n",
       "      <th>New</th>\n",
       "      <td>446451.310472</td>\n",
       "    </tr>\n",
       "  </tbody>\n",
       "</table>\n",
       "<p>96 rows × 1 columns</p>\n",
       "</div>"
      ],
      "text/plain": [
       "                                   sale_price\n",
       "created_at created_at custType               \n",
       "2019       1          Existing    1537.589998\n",
       "                      New         1705.679987\n",
       "           2          Existing    2700.340003\n",
       "                      New         3433.789994\n",
       "           3          Existing    6744.629979\n",
       "...                                       ...\n",
       "2022       10         New       304746.500385\n",
       "           11         Existing  458957.200401\n",
       "                      New       363297.300379\n",
       "           12         Existing  568951.130536\n",
       "                      New       446451.310472\n",
       "\n",
       "[96 rows x 1 columns]"
      ]
     },
     "execution_count": 35,
     "metadata": {},
     "output_type": "execute_result"
    }
   ],
   "source": [
    "dfsales_grouped_custType"
   ]
  },
  {
   "cell_type": "code",
   "execution_count": 36,
   "metadata": {},
   "outputs": [],
   "source": [
    "dfsalesunstacked_custType = dfsales_grouped_custType.unstack(level=2)"
   ]
  },
  {
   "cell_type": "code",
   "execution_count": 37,
   "metadata": {},
   "outputs": [
    {
     "data": {
      "text/html": [
       "<div>\n",
       "<style scoped>\n",
       "    .dataframe tbody tr th:only-of-type {\n",
       "        vertical-align: middle;\n",
       "    }\n",
       "\n",
       "    .dataframe tbody tr th {\n",
       "        vertical-align: top;\n",
       "    }\n",
       "\n",
       "    .dataframe thead tr th {\n",
       "        text-align: left;\n",
       "    }\n",
       "\n",
       "    .dataframe thead tr:last-of-type th {\n",
       "        text-align: right;\n",
       "    }\n",
       "</style>\n",
       "<table border=\"1\" class=\"dataframe\">\n",
       "  <thead>\n",
       "    <tr>\n",
       "      <th></th>\n",
       "      <th></th>\n",
       "      <th colspan=\"2\" halign=\"left\">sale_price</th>\n",
       "    </tr>\n",
       "    <tr>\n",
       "      <th></th>\n",
       "      <th>custType</th>\n",
       "      <th>Existing</th>\n",
       "      <th>New</th>\n",
       "    </tr>\n",
       "    <tr>\n",
       "      <th>created_at</th>\n",
       "      <th>created_at</th>\n",
       "      <th></th>\n",
       "      <th></th>\n",
       "    </tr>\n",
       "  </thead>\n",
       "  <tbody>\n",
       "    <tr>\n",
       "      <th rowspan=\"12\" valign=\"top\">2019</th>\n",
       "      <th>1</th>\n",
       "      <td>1537.589998</td>\n",
       "      <td>1705.679987</td>\n",
       "    </tr>\n",
       "    <tr>\n",
       "      <th>2</th>\n",
       "      <td>2700.340003</td>\n",
       "      <td>3433.789994</td>\n",
       "    </tr>\n",
       "    <tr>\n",
       "      <th>3</th>\n",
       "      <td>6744.629979</td>\n",
       "      <td>5551.459996</td>\n",
       "    </tr>\n",
       "    <tr>\n",
       "      <th>4</th>\n",
       "      <td>8910.849991</td>\n",
       "      <td>9069.420034</td>\n",
       "    </tr>\n",
       "    <tr>\n",
       "      <th>5</th>\n",
       "      <td>13911.350023</td>\n",
       "      <td>9521.630009</td>\n",
       "    </tr>\n",
       "    <tr>\n",
       "      <th>6</th>\n",
       "      <td>15581.509944</td>\n",
       "      <td>11504.149992</td>\n",
       "    </tr>\n",
       "    <tr>\n",
       "      <th>7</th>\n",
       "      <td>16956.470019</td>\n",
       "      <td>15798.250025</td>\n",
       "    </tr>\n",
       "    <tr>\n",
       "      <th>8</th>\n",
       "      <td>17993.760023</td>\n",
       "      <td>16341.000010</td>\n",
       "    </tr>\n",
       "    <tr>\n",
       "      <th>9</th>\n",
       "      <td>23267.710010</td>\n",
       "      <td>22659.490039</td>\n",
       "    </tr>\n",
       "    <tr>\n",
       "      <th>10</th>\n",
       "      <td>31027.040005</td>\n",
       "      <td>21818.000049</td>\n",
       "    </tr>\n",
       "    <tr>\n",
       "      <th>11</th>\n",
       "      <td>31802.919981</td>\n",
       "      <td>26805.950014</td>\n",
       "    </tr>\n",
       "    <tr>\n",
       "      <th>12</th>\n",
       "      <td>32402.280012</td>\n",
       "      <td>26858.080045</td>\n",
       "    </tr>\n",
       "    <tr>\n",
       "      <th rowspan=\"12\" valign=\"top\">2020</th>\n",
       "      <th>1</th>\n",
       "      <td>33310.779999</td>\n",
       "      <td>29596.320040</td>\n",
       "    </tr>\n",
       "    <tr>\n",
       "      <th>2</th>\n",
       "      <td>43615.330092</td>\n",
       "      <td>32695.450047</td>\n",
       "    </tr>\n",
       "    <tr>\n",
       "      <th>3</th>\n",
       "      <td>49491.000029</td>\n",
       "      <td>35684.989984</td>\n",
       "    </tr>\n",
       "    <tr>\n",
       "      <th>4</th>\n",
       "      <td>46822.360009</td>\n",
       "      <td>35869.870057</td>\n",
       "    </tr>\n",
       "    <tr>\n",
       "      <th>5</th>\n",
       "      <td>54767.819997</td>\n",
       "      <td>42137.790020</td>\n",
       "    </tr>\n",
       "    <tr>\n",
       "      <th>6</th>\n",
       "      <td>51903.990066</td>\n",
       "      <td>41822.160083</td>\n",
       "    </tr>\n",
       "    <tr>\n",
       "      <th>7</th>\n",
       "      <td>64530.700116</td>\n",
       "      <td>53535.950080</td>\n",
       "    </tr>\n",
       "    <tr>\n",
       "      <th>8</th>\n",
       "      <td>66183.580053</td>\n",
       "      <td>52378.550026</td>\n",
       "    </tr>\n",
       "    <tr>\n",
       "      <th>9</th>\n",
       "      <td>68062.400099</td>\n",
       "      <td>59992.500125</td>\n",
       "    </tr>\n",
       "    <tr>\n",
       "      <th>10</th>\n",
       "      <td>76323.150185</td>\n",
       "      <td>59075.680022</td>\n",
       "    </tr>\n",
       "    <tr>\n",
       "      <th>11</th>\n",
       "      <td>76012.520077</td>\n",
       "      <td>59198.140070</td>\n",
       "    </tr>\n",
       "    <tr>\n",
       "      <th>12</th>\n",
       "      <td>84060.980098</td>\n",
       "      <td>72303.920102</td>\n",
       "    </tr>\n",
       "    <tr>\n",
       "      <th rowspan=\"12\" valign=\"top\">2021</th>\n",
       "      <th>1</th>\n",
       "      <td>92004.920112</td>\n",
       "      <td>76764.170147</td>\n",
       "    </tr>\n",
       "    <tr>\n",
       "      <th>2</th>\n",
       "      <td>87358.890047</td>\n",
       "      <td>64020.380065</td>\n",
       "    </tr>\n",
       "    <tr>\n",
       "      <th>3</th>\n",
       "      <td>95725.020125</td>\n",
       "      <td>77942.760129</td>\n",
       "    </tr>\n",
       "    <tr>\n",
       "      <th>4</th>\n",
       "      <td>100377.370045</td>\n",
       "      <td>85216.940120</td>\n",
       "    </tr>\n",
       "    <tr>\n",
       "      <th>5</th>\n",
       "      <td>111069.169930</td>\n",
       "      <td>88367.320060</td>\n",
       "    </tr>\n",
       "    <tr>\n",
       "      <th>6</th>\n",
       "      <td>116808.480075</td>\n",
       "      <td>89563.900016</td>\n",
       "    </tr>\n",
       "    <tr>\n",
       "      <th>7</th>\n",
       "      <td>128255.660114</td>\n",
       "      <td>97851.700165</td>\n",
       "    </tr>\n",
       "    <tr>\n",
       "      <th>8</th>\n",
       "      <td>134750.980054</td>\n",
       "      <td>114421.570107</td>\n",
       "    </tr>\n",
       "    <tr>\n",
       "      <th>9</th>\n",
       "      <td>142709.510132</td>\n",
       "      <td>104104.180084</td>\n",
       "    </tr>\n",
       "    <tr>\n",
       "      <th>10</th>\n",
       "      <td>147302.220198</td>\n",
       "      <td>118498.290115</td>\n",
       "    </tr>\n",
       "    <tr>\n",
       "      <th>11</th>\n",
       "      <td>156255.650052</td>\n",
       "      <td>128109.040114</td>\n",
       "    </tr>\n",
       "    <tr>\n",
       "      <th>12</th>\n",
       "      <td>179769.780145</td>\n",
       "      <td>134133.760330</td>\n",
       "    </tr>\n",
       "    <tr>\n",
       "      <th rowspan=\"12\" valign=\"top\">2022</th>\n",
       "      <th>1</th>\n",
       "      <td>189293.740287</td>\n",
       "      <td>143601.150242</td>\n",
       "    </tr>\n",
       "    <tr>\n",
       "      <th>2</th>\n",
       "      <td>176956.680094</td>\n",
       "      <td>136566.860127</td>\n",
       "    </tr>\n",
       "    <tr>\n",
       "      <th>3</th>\n",
       "      <td>199765.540194</td>\n",
       "      <td>155535.760143</td>\n",
       "    </tr>\n",
       "    <tr>\n",
       "      <th>4</th>\n",
       "      <td>218295.020162</td>\n",
       "      <td>176586.810216</td>\n",
       "    </tr>\n",
       "    <tr>\n",
       "      <th>5</th>\n",
       "      <td>239195.480237</td>\n",
       "      <td>182394.750149</td>\n",
       "    </tr>\n",
       "    <tr>\n",
       "      <th>6</th>\n",
       "      <td>251183.960092</td>\n",
       "      <td>190551.660214</td>\n",
       "    </tr>\n",
       "    <tr>\n",
       "      <th>7</th>\n",
       "      <td>269847.380404</td>\n",
       "      <td>211925.840173</td>\n",
       "    </tr>\n",
       "    <tr>\n",
       "      <th>8</th>\n",
       "      <td>307253.160335</td>\n",
       "      <td>242938.120267</td>\n",
       "    </tr>\n",
       "    <tr>\n",
       "      <th>9</th>\n",
       "      <td>327811.550177</td>\n",
       "      <td>250201.980217</td>\n",
       "    </tr>\n",
       "    <tr>\n",
       "      <th>10</th>\n",
       "      <td>377036.840395</td>\n",
       "      <td>304746.500385</td>\n",
       "    </tr>\n",
       "    <tr>\n",
       "      <th>11</th>\n",
       "      <td>458957.200401</td>\n",
       "      <td>363297.300379</td>\n",
       "    </tr>\n",
       "    <tr>\n",
       "      <th>12</th>\n",
       "      <td>568951.130536</td>\n",
       "      <td>446451.310472</td>\n",
       "    </tr>\n",
       "  </tbody>\n",
       "</table>\n",
       "</div>"
      ],
      "text/plain": [
       "                          sale_price               \n",
       "custType                    Existing            New\n",
       "created_at created_at                              \n",
       "2019       1             1537.589998    1705.679987\n",
       "           2             2700.340003    3433.789994\n",
       "           3             6744.629979    5551.459996\n",
       "           4             8910.849991    9069.420034\n",
       "           5            13911.350023    9521.630009\n",
       "           6            15581.509944   11504.149992\n",
       "           7            16956.470019   15798.250025\n",
       "           8            17993.760023   16341.000010\n",
       "           9            23267.710010   22659.490039\n",
       "           10           31027.040005   21818.000049\n",
       "           11           31802.919981   26805.950014\n",
       "           12           32402.280012   26858.080045\n",
       "2020       1            33310.779999   29596.320040\n",
       "           2            43615.330092   32695.450047\n",
       "           3            49491.000029   35684.989984\n",
       "           4            46822.360009   35869.870057\n",
       "           5            54767.819997   42137.790020\n",
       "           6            51903.990066   41822.160083\n",
       "           7            64530.700116   53535.950080\n",
       "           8            66183.580053   52378.550026\n",
       "           9            68062.400099   59992.500125\n",
       "           10           76323.150185   59075.680022\n",
       "           11           76012.520077   59198.140070\n",
       "           12           84060.980098   72303.920102\n",
       "2021       1            92004.920112   76764.170147\n",
       "           2            87358.890047   64020.380065\n",
       "           3            95725.020125   77942.760129\n",
       "           4           100377.370045   85216.940120\n",
       "           5           111069.169930   88367.320060\n",
       "           6           116808.480075   89563.900016\n",
       "           7           128255.660114   97851.700165\n",
       "           8           134750.980054  114421.570107\n",
       "           9           142709.510132  104104.180084\n",
       "           10          147302.220198  118498.290115\n",
       "           11          156255.650052  128109.040114\n",
       "           12          179769.780145  134133.760330\n",
       "2022       1           189293.740287  143601.150242\n",
       "           2           176956.680094  136566.860127\n",
       "           3           199765.540194  155535.760143\n",
       "           4           218295.020162  176586.810216\n",
       "           5           239195.480237  182394.750149\n",
       "           6           251183.960092  190551.660214\n",
       "           7           269847.380404  211925.840173\n",
       "           8           307253.160335  242938.120267\n",
       "           9           327811.550177  250201.980217\n",
       "           10          377036.840395  304746.500385\n",
       "           11          458957.200401  363297.300379\n",
       "           12          568951.130536  446451.310472"
      ]
     },
     "execution_count": 37,
     "metadata": {},
     "output_type": "execute_result"
    }
   ],
   "source": [
    "dfsalesunstacked_custType"
   ]
  },
  {
   "cell_type": "code",
   "execution_count": 38,
   "metadata": {},
   "outputs": [
    {
     "data": {
      "image/png": "[encoded data removed]",
      "text/plain": [
       "<Figure size 1440x720 with 2 Axes>"
      ]
     },
     "metadata": {},
     "output_type": "display_data"
    }
   ],
   "source": [
    "fig, axes = plt.subplots(nrows=2, ncols=1, figsize=(20,10), sharex=True)\n",
    "unstackednumberBycustType.plot(kind='bar', stacked=True, ax=axes[0])\n",
    "dfsalesunstacked_custType.plot(kind='bar', stacked=True, ax=axes[1])\n",
    "plt.xlabel('year, month')\n",
    "plt.title('Number of customers and Sales by cust Type')\n",
    "plt.savefig('numberofCustandsalesbyType')"
   ]
  },
  {
   "cell_type": "markdown",
   "metadata": {},
   "source": [
    "**COMMENT: Steady growth for both new and existing customers, both for revenue and numbers**"
   ]
  },
  {
   "cell_type": "markdown",
   "metadata": {},
   "source": [
    "**Time between orders**"
   ]
  },
  {
   "cell_type": "code",
   "execution_count": 39,
   "metadata": {},
   "outputs": [],
   "source": [
    "#we will first make a new column of created at and then shift the order date by 1 row(after grouping by user id), \n",
    "#then we will find diff between created_at and the shifted order date.\n",
    "dforders.head()\n",
    "dfordersindexed= dforders.set_index('created_at')\n",
    "dfordersindexed['orderDate'] = dfordersindexed.index"
   ]
  },
  {
   "cell_type": "code",
   "execution_count": 40,
   "metadata": {},
   "outputs": [],
   "source": [
    "dfordersindexed=dfordersindexed.sort_values(['user_id','orderDate'])\n",
    "dfordersindexed['last_order']=dfordersindexed.groupby(['user_id'])['orderDate'].shift()\n",
    "                                            "
   ]
  },
  {
   "cell_type": "code",
   "execution_count": 41,
   "metadata": {},
   "outputs": [],
   "source": [
    "dfordersindexed.head()\n",
    "dfordersindexed['timebetweenorders'] = (dfordersindexed['orderDate']-dfordersindexed['last_order']).dt.days"
   ]
  },
  {
   "cell_type": "code",
   "execution_count": 42,
   "metadata": {},
   "outputs": [
    {
     "data": {
      "text/plain": [
       "order_id                           Int64\n",
       "user_id                            Int64\n",
       "status                            object\n",
       "gender                            object\n",
       "returned_at          datetime64[ns, UTC]\n",
       "shipped_at           datetime64[ns, UTC]\n",
       "delivered_at         datetime64[ns, UTC]\n",
       "num_of_item                        Int64\n",
       "orderDate            datetime64[ns, UTC]\n",
       "last_order           datetime64[ns, UTC]\n",
       "timebetweenorders                float64\n",
       "dtype: object"
      ]
     },
     "execution_count": 42,
     "metadata": {},
     "output_type": "execute_result"
    }
   ],
   "source": [
    "dfordersindexed.dtypes"
   ]
  },
  {
   "cell_type": "code",
   "execution_count": 43,
   "metadata": {},
   "outputs": [
    {
     "data": {
      "text/html": [
       "<div>\n",
       "<style scoped>\n",
       "    .dataframe tbody tr th:only-of-type {\n",
       "        vertical-align: middle;\n",
       "    }\n",
       "\n",
       "    .dataframe tbody tr th {\n",
       "        vertical-align: top;\n",
       "    }\n",
       "\n",
       "    .dataframe thead th {\n",
       "        text-align: right;\n",
       "    }\n",
       "</style>\n",
       "<table border=\"1\" class=\"dataframe\">\n",
       "  <thead>\n",
       "    <tr style=\"text-align: right;\">\n",
       "      <th></th>\n",
       "      <th>order_id</th>\n",
       "      <th>user_id</th>\n",
       "      <th>status</th>\n",
       "      <th>gender</th>\n",
       "      <th>created_at</th>\n",
       "      <th>returned_at</th>\n",
       "      <th>shipped_at</th>\n",
       "      <th>delivered_at</th>\n",
       "      <th>num_of_item</th>\n",
       "    </tr>\n",
       "  </thead>\n",
       "  <tbody>\n",
       "    <tr>\n",
       "      <th>0</th>\n",
       "      <td>15</td>\n",
       "      <td>11</td>\n",
       "      <td>Shipped</td>\n",
       "      <td>F</td>\n",
       "      <td>2022-08-18 12:13:00+00:00</td>\n",
       "      <td>NaT</td>\n",
       "      <td>2022-08-20 21:02:00+00:00</td>\n",
       "      <td>NaT</td>\n",
       "      <td>1</td>\n",
       "    </tr>\n",
       "    <tr>\n",
       "      <th>1</th>\n",
       "      <td>18</td>\n",
       "      <td>15</td>\n",
       "      <td>Shipped</td>\n",
       "      <td>F</td>\n",
       "      <td>2022-12-02 16:11:00+00:00</td>\n",
       "      <td>NaT</td>\n",
       "      <td>2022-12-05 00:29:00+00:00</td>\n",
       "      <td>NaT</td>\n",
       "      <td>1</td>\n",
       "    </tr>\n",
       "    <tr>\n",
       "      <th>2</th>\n",
       "      <td>26</td>\n",
       "      <td>21</td>\n",
       "      <td>Shipped</td>\n",
       "      <td>F</td>\n",
       "      <td>2021-10-18 18:17:00+00:00</td>\n",
       "      <td>NaT</td>\n",
       "      <td>2021-10-21 10:46:00+00:00</td>\n",
       "      <td>NaT</td>\n",
       "      <td>1</td>\n",
       "    </tr>\n",
       "    <tr>\n",
       "      <th>3</th>\n",
       "      <td>27</td>\n",
       "      <td>22</td>\n",
       "      <td>Shipped</td>\n",
       "      <td>F</td>\n",
       "      <td>2022-07-28 11:56:00+00:00</td>\n",
       "      <td>NaT</td>\n",
       "      <td>2022-07-30 05:46:00+00:00</td>\n",
       "      <td>NaT</td>\n",
       "      <td>1</td>\n",
       "    </tr>\n",
       "    <tr>\n",
       "      <th>4</th>\n",
       "      <td>53</td>\n",
       "      <td>38</td>\n",
       "      <td>Shipped</td>\n",
       "      <td>F</td>\n",
       "      <td>2019-08-16 00:36:00+00:00</td>\n",
       "      <td>NaT</td>\n",
       "      <td>2019-08-18 06:12:00+00:00</td>\n",
       "      <td>NaT</td>\n",
       "      <td>2</td>\n",
       "    </tr>\n",
       "    <tr>\n",
       "      <th>...</th>\n",
       "      <td>...</td>\n",
       "      <td>...</td>\n",
       "      <td>...</td>\n",
       "      <td>...</td>\n",
       "      <td>...</td>\n",
       "      <td>...</td>\n",
       "      <td>...</td>\n",
       "      <td>...</td>\n",
       "      <td>...</td>\n",
       "    </tr>\n",
       "    <tr>\n",
       "      <th>124673</th>\n",
       "      <td>124585</td>\n",
       "      <td>99938</td>\n",
       "      <td>Processing</td>\n",
       "      <td>M</td>\n",
       "      <td>2022-02-24 00:21:00+00:00</td>\n",
       "      <td>NaT</td>\n",
       "      <td>NaT</td>\n",
       "      <td>NaT</td>\n",
       "      <td>2</td>\n",
       "    </tr>\n",
       "    <tr>\n",
       "      <th>124674</th>\n",
       "      <td>124591</td>\n",
       "      <td>99940</td>\n",
       "      <td>Processing</td>\n",
       "      <td>M</td>\n",
       "      <td>2022-12-01 14:28:00+00:00</td>\n",
       "      <td>NaT</td>\n",
       "      <td>NaT</td>\n",
       "      <td>NaT</td>\n",
       "      <td>1</td>\n",
       "    </tr>\n",
       "    <tr>\n",
       "      <th>124675</th>\n",
       "      <td>124601</td>\n",
       "      <td>99946</td>\n",
       "      <td>Processing</td>\n",
       "      <td>M</td>\n",
       "      <td>2022-03-03 09:05:00+00:00</td>\n",
       "      <td>NaT</td>\n",
       "      <td>NaT</td>\n",
       "      <td>NaT</td>\n",
       "      <td>1</td>\n",
       "    </tr>\n",
       "    <tr>\n",
       "      <th>124676</th>\n",
       "      <td>124614</td>\n",
       "      <td>99953</td>\n",
       "      <td>Processing</td>\n",
       "      <td>M</td>\n",
       "      <td>2022-01-01 15:19:00+00:00</td>\n",
       "      <td>NaT</td>\n",
       "      <td>NaT</td>\n",
       "      <td>NaT</td>\n",
       "      <td>1</td>\n",
       "    </tr>\n",
       "    <tr>\n",
       "      <th>124677</th>\n",
       "      <td>124668</td>\n",
       "      <td>99989</td>\n",
       "      <td>Processing</td>\n",
       "      <td>M</td>\n",
       "      <td>2022-06-03 13:07:00+00:00</td>\n",
       "      <td>NaT</td>\n",
       "      <td>NaT</td>\n",
       "      <td>NaT</td>\n",
       "      <td>1</td>\n",
       "    </tr>\n",
       "  </tbody>\n",
       "</table>\n",
       "<p>124678 rows × 9 columns</p>\n",
       "</div>"
      ],
      "text/plain": [
       "        order_id  user_id      status gender                created_at  \\\n",
       "0             15       11     Shipped      F 2022-08-18 12:13:00+00:00   \n",
       "1             18       15     Shipped      F 2022-12-02 16:11:00+00:00   \n",
       "2             26       21     Shipped      F 2021-10-18 18:17:00+00:00   \n",
       "3             27       22     Shipped      F 2022-07-28 11:56:00+00:00   \n",
       "4             53       38     Shipped      F 2019-08-16 00:36:00+00:00   \n",
       "...          ...      ...         ...    ...                       ...   \n",
       "124673    124585    99938  Processing      M 2022-02-24 00:21:00+00:00   \n",
       "124674    124591    99940  Processing      M 2022-12-01 14:28:00+00:00   \n",
       "124675    124601    99946  Processing      M 2022-03-03 09:05:00+00:00   \n",
       "124676    124614    99953  Processing      M 2022-01-01 15:19:00+00:00   \n",
       "124677    124668    99989  Processing      M 2022-06-03 13:07:00+00:00   \n",
       "\n",
       "       returned_at                shipped_at delivered_at  num_of_item  \n",
       "0              NaT 2022-08-20 21:02:00+00:00          NaT            1  \n",
       "1              NaT 2022-12-05 00:29:00+00:00          NaT            1  \n",
       "2              NaT 2021-10-21 10:46:00+00:00          NaT            1  \n",
       "3              NaT 2022-07-30 05:46:00+00:00          NaT            1  \n",
       "4              NaT 2019-08-18 06:12:00+00:00          NaT            2  \n",
       "...            ...                       ...          ...          ...  \n",
       "124673         NaT                       NaT          NaT            2  \n",
       "124674         NaT                       NaT          NaT            1  \n",
       "124675         NaT                       NaT          NaT            1  \n",
       "124676         NaT                       NaT          NaT            1  \n",
       "124677         NaT                       NaT          NaT            1  \n",
       "\n",
       "[124678 rows x 9 columns]"
      ]
     },
     "execution_count": 43,
     "metadata": {},
     "output_type": "execute_result"
    }
   ],
   "source": [
    "dfordersindexed['timebetweenorders'].mean()\n",
    "dforders"
   ]
  },
  {
   "cell_type": "code",
   "execution_count": 44,
   "metadata": {},
   "outputs": [
    {
     "data": {
      "text/plain": [
       "created_at\n",
       "2022-12-11 03:06:00+00:00                 2022-12-05 03:06:00+00:00\n",
       "2022-12-19 07:28:00+00:00                 2022-02-16 07:28:00+00:00\n",
       "2021-09-03 11:00:00+00:00                 2019-12-15 11:00:00+00:00\n",
       "2022-09-07 05:01:00+00:00                 2021-05-01 05:01:00+00:00\n",
       "2021-04-11 09:54:00+00:00                 2020-04-03 09:54:00+00:00\n",
       "                                                 ...               \n",
       "2022-12-20 03:53:45.175865+00:00   2022-12-20 03:53:45.175865+00:00\n",
       "2022-12-20 03:53:45.175865+00:00   2022-12-20 03:53:45.175865+00:00\n",
       "2022-08-08 11:16:00+00:00                 2021-09-01 11:16:00+00:00\n",
       "2022-12-13 13:20:00+00:00                 2022-07-04 13:20:00+00:00\n",
       "2021-11-20 10:08:00+00:00                 2020-11-01 10:08:00+00:00\n",
       "Name: last_order, Length: 44891, dtype: datetime64[ns, UTC]"
      ]
     },
     "execution_count": 44,
     "metadata": {},
     "output_type": "execute_result"
    }
   ],
   "source": [
    "dfordersindexed['last_order'].dropna()"
   ]
  },
  {
   "cell_type": "code",
   "execution_count": 45,
   "metadata": {},
   "outputs": [
    {
     "data": {
      "text/plain": [
       "created_at\n",
       "2022-03-17 14:50:00+00:00      NaN\n",
       "2022-12-05 03:06:00+00:00      NaN\n",
       "2022-12-11 03:06:00+00:00      6.0\n",
       "2022-02-16 07:28:00+00:00      NaN\n",
       "2022-12-19 07:28:00+00:00    306.0\n",
       "                             ...  \n",
       "2020-09-02 08:52:00+00:00      NaN\n",
       "2022-07-17 12:10:00+00:00      NaN\n",
       "2020-11-01 10:08:00+00:00      NaN\n",
       "2021-11-20 10:08:00+00:00    384.0\n",
       "2022-07-04 05:08:00+00:00      NaN\n",
       "Name: timebetweenorders, Length: 124678, dtype: float64"
      ]
     },
     "execution_count": 45,
     "metadata": {},
     "output_type": "execute_result"
    }
   ],
   "source": [
    "dfordersindexed['timebetweenorders'] "
   ]
  },
  {
   "cell_type": "code",
   "execution_count": null,
   "metadata": {},
   "outputs": [],
   "source": []
  },
  {
   "cell_type": "code",
   "execution_count": 46,
   "metadata": {},
   "outputs": [
    {
     "data": {
      "text/plain": [
       "<AxesSubplot:ylabel='Frequency'>"
      ]
     },
     "execution_count": 46,
     "metadata": {},
     "output_type": "execute_result"
    },
    {
     "data": {
      "image/png": "[encoded data removed]",
      "text/plain": [
       "<Figure size 1440x576 with 1 Axes>"
      ]
     },
     "metadata": {},
     "output_type": "display_data"
    }
   ],
   "source": [
    "timeInbetween = dfordersindexed['timebetweenorders']\n",
    "timeInbetween.dropna().plot(kind='hist', bins=10,figsize=(20,8))\n"
   ]
  },
  {
   "cell_type": "code",
   "execution_count": 47,
   "metadata": {},
   "outputs": [
    {
     "data": {
      "text/plain": [
       "192.14296852375756"
      ]
     },
     "execution_count": 47,
     "metadata": {},
     "output_type": "execute_result"
    }
   ],
   "source": [
    "timeInbetween.mean()"
   ]
  },
  {
   "cell_type": "markdown",
   "metadata": {},
   "source": [
    "**Comment: Left skewed data, average time in between orders is 190days**"
   ]
  },
  {
   "cell_type": "code",
   "execution_count": 56,
   "metadata": {},
   "outputs": [
    {
     "data": {
      "text/plain": [
       "<bound method IndexOpsMixin.value_counts of user_id\n",
       "1         1\n",
       "3         2\n",
       "4         2\n",
       "5         1\n",
       "6         1\n",
       "         ..\n",
       "99996     1\n",
       "99997     1\n",
       "99998     1\n",
       "99999     2\n",
       "100000    1\n",
       "Name: order_id, Length: 79787, dtype: int64>"
      ]
     },
     "execution_count": 56,
     "metadata": {},
     "output_type": "execute_result"
    }
   ],
   "source": [
    "numberofOrders = dforders.groupby('user_id')['order_id'].nunique()\n",
    "numberofOrders.value_counts"
   ]
  },
  {
   "cell_type": "code",
   "execution_count": 58,
   "metadata": {},
   "outputs": [
    {
     "data": {
      "image/png": "[encoded data removed]",
      "text/plain": [
       "<Figure size 1440x360 with 2 Axes>"
      ]
     },
     "metadata": {},
     "output_type": "display_data"
    }
   ],
   "source": [
    "fig, axes = plt.subplots(nrows=1, ncols=2, figsize=(20,5))\n",
    "#plotting time in between and number of orders\n",
    "timeInbetween.plot(kind='hist', bins =10, ax=axes[1])\n",
    "numberofOrders.value_counts(sort=False).plot(kind='bar',ax=axes[0])\n",
    "axes[1].set_title('Time between orders', fontsize=16)\n",
    "axes[0].set_title('Number of orders for customers',fontsize=16)\n",
    "axes[1].set_xlabel('number of days', fontsize=16)\n",
    "axes[0].set_xlabel('Number of orders',fontsize=16)\n",
    "plt.savefig('noOfordersandtimebetween')"
   ]
  },
  {
   "cell_type": "markdown",
   "metadata": {},
   "source": [
    "**Comment: Most common number of orders per customer is 1 and average time between orders for existing customers is almost 180 days**"
   ]
  },
  {
   "cell_type": "markdown",
   "metadata": {},
   "source": [
    "# *Slice the dataframe by customer type*"
   ]
  },
  {
   "cell_type": "code",
   "execution_count": 59,
   "metadata": {},
   "outputs": [],
   "source": [
    "orders_daily_count=orders_daily.groupby('user_id').size()"
   ]
  },
  {
   "cell_type": "code",
   "execution_count": 60,
   "metadata": {},
   "outputs": [
    {
     "data": {
      "text/plain": [
       "(79787,)"
      ]
     },
     "execution_count": 60,
     "metadata": {},
     "output_type": "execute_result"
    }
   ],
   "source": [
    "orders_daily_count.shape"
   ]
  },
  {
   "cell_type": "code",
   "execution_count": null,
   "metadata": {},
   "outputs": [],
   "source": []
  },
  {
   "cell_type": "code",
   "execution_count": 61,
   "metadata": {},
   "outputs": [
    {
     "data": {
      "text/html": [
       "<div>\n",
       "<style scoped>\n",
       "    .dataframe tbody tr th:only-of-type {\n",
       "        vertical-align: middle;\n",
       "    }\n",
       "\n",
       "    .dataframe tbody tr th {\n",
       "        vertical-align: top;\n",
       "    }\n",
       "\n",
       "    .dataframe thead th {\n",
       "        text-align: right;\n",
       "    }\n",
       "</style>\n",
       "<table border=\"1\" class=\"dataframe\">\n",
       "  <thead>\n",
       "    <tr style=\"text-align: right;\">\n",
       "      <th></th>\n",
       "      <th>user_id</th>\n",
       "      <th>cost</th>\n",
       "      <th>retailprice</th>\n",
       "      <th>product_category</th>\n",
       "      <th>department</th>\n",
       "      <th>brand</th>\n",
       "      <th>shipped_at</th>\n",
       "      <th>sale_price</th>\n",
       "      <th>status</th>\n",
       "      <th>returnedat</th>\n",
       "      <th>distcenter</th>\n",
       "      <th>country</th>\n",
       "      <th>gender</th>\n",
       "      <th>profit</th>\n",
       "      <th>custType</th>\n",
       "      <th>percentDisc</th>\n",
       "    </tr>\n",
       "    <tr>\n",
       "      <th>created_at</th>\n",
       "      <th></th>\n",
       "      <th></th>\n",
       "      <th></th>\n",
       "      <th></th>\n",
       "      <th></th>\n",
       "      <th></th>\n",
       "      <th></th>\n",
       "      <th></th>\n",
       "      <th></th>\n",
       "      <th></th>\n",
       "      <th></th>\n",
       "      <th></th>\n",
       "      <th></th>\n",
       "      <th></th>\n",
       "      <th></th>\n",
       "      <th></th>\n",
       "    </tr>\n",
       "  </thead>\n",
       "  <tbody>\n",
       "    <tr>\n",
       "      <th>2022-04-08 07:13:35+00:00</th>\n",
       "      <td>10684</td>\n",
       "      <td>66.120000</td>\n",
       "      <td>120.000000</td>\n",
       "      <td>Jumpsuits &amp; Rompers</td>\n",
       "      <td>Women</td>\n",
       "      <td>Queen</td>\n",
       "      <td>2022-04-10 22:48:00+00:00</td>\n",
       "      <td>120.000000</td>\n",
       "      <td>Shipped</td>\n",
       "      <td>NaT</td>\n",
       "      <td>3</td>\n",
       "      <td>Brasil</td>\n",
       "      <td>F</td>\n",
       "      <td>53.880000</td>\n",
       "      <td>Existing</td>\n",
       "      <td>0.0</td>\n",
       "    </tr>\n",
       "    <tr>\n",
       "      <th>2022-09-23 12:15:29+00:00</th>\n",
       "      <td>40576</td>\n",
       "      <td>8.537760</td>\n",
       "      <td>17.639999</td>\n",
       "      <td>Jumpsuits &amp; Rompers</td>\n",
       "      <td>Women</td>\n",
       "      <td>Jenni</td>\n",
       "      <td>2022-09-25 07:21:00+00:00</td>\n",
       "      <td>17.639999</td>\n",
       "      <td>Returned</td>\n",
       "      <td>2022-09-29 11:33:00+00:00</td>\n",
       "      <td>8</td>\n",
       "      <td>United States</td>\n",
       "      <td>F</td>\n",
       "      <td>9.102240</td>\n",
       "      <td>Existing</td>\n",
       "      <td>0.0</td>\n",
       "    </tr>\n",
       "    <tr>\n",
       "      <th>2021-04-12 03:18:47+00:00</th>\n",
       "      <td>80811</td>\n",
       "      <td>70.584573</td>\n",
       "      <td>129.990005</td>\n",
       "      <td>Jumpsuits &amp; Rompers</td>\n",
       "      <td>Women</td>\n",
       "      <td>VA VA VOOM</td>\n",
       "      <td>NaT</td>\n",
       "      <td>129.990005</td>\n",
       "      <td>Processing</td>\n",
       "      <td>NaT</td>\n",
       "      <td>3</td>\n",
       "      <td>Japan</td>\n",
       "      <td>F</td>\n",
       "      <td>59.405433</td>\n",
       "      <td>Existing</td>\n",
       "      <td>0.0</td>\n",
       "    </tr>\n",
       "    <tr>\n",
       "      <th>2021-10-04 05:22:30+00:00</th>\n",
       "      <td>65684</td>\n",
       "      <td>19.349471</td>\n",
       "      <td>34.990002</td>\n",
       "      <td>Jumpsuits &amp; Rompers</td>\n",
       "      <td>Women</td>\n",
       "      <td>MANGO</td>\n",
       "      <td>NaT</td>\n",
       "      <td>34.990002</td>\n",
       "      <td>Processing</td>\n",
       "      <td>NaT</td>\n",
       "      <td>9</td>\n",
       "      <td>China</td>\n",
       "      <td>F</td>\n",
       "      <td>15.640531</td>\n",
       "      <td>Existing</td>\n",
       "      <td>0.0</td>\n",
       "    </tr>\n",
       "    <tr>\n",
       "      <th>2022-12-19 07:09:00+00:00</th>\n",
       "      <td>80051</td>\n",
       "      <td>35.798491</td>\n",
       "      <td>54.990002</td>\n",
       "      <td>Clothing Sets</td>\n",
       "      <td>Women</td>\n",
       "      <td>Only Necessities</td>\n",
       "      <td>NaT</td>\n",
       "      <td>54.990002</td>\n",
       "      <td>Cancelled</td>\n",
       "      <td>NaT</td>\n",
       "      <td>4</td>\n",
       "      <td>Spain</td>\n",
       "      <td>F</td>\n",
       "      <td>19.191511</td>\n",
       "      <td>Existing</td>\n",
       "      <td>0.0</td>\n",
       "    </tr>\n",
       "    <tr>\n",
       "      <th>...</th>\n",
       "      <td>...</td>\n",
       "      <td>...</td>\n",
       "      <td>...</td>\n",
       "      <td>...</td>\n",
       "      <td>...</td>\n",
       "      <td>...</td>\n",
       "      <td>...</td>\n",
       "      <td>...</td>\n",
       "      <td>...</td>\n",
       "      <td>...</td>\n",
       "      <td>...</td>\n",
       "      <td>...</td>\n",
       "      <td>...</td>\n",
       "      <td>...</td>\n",
       "      <td>...</td>\n",
       "      <td>...</td>\n",
       "    </tr>\n",
       "    <tr>\n",
       "      <th>2022-07-02 02:20:07+00:00</th>\n",
       "      <td>95045</td>\n",
       "      <td>5.978830</td>\n",
       "      <td>12.430000</td>\n",
       "      <td>Fashion Hoodies &amp; Sweatshirts</td>\n",
       "      <td>Women</td>\n",
       "      <td>Allegra K</td>\n",
       "      <td>NaT</td>\n",
       "      <td>12.430000</td>\n",
       "      <td>Processing</td>\n",
       "      <td>NaT</td>\n",
       "      <td>9</td>\n",
       "      <td>China</td>\n",
       "      <td>F</td>\n",
       "      <td>6.451170</td>\n",
       "      <td>Existing</td>\n",
       "      <td>0.0</td>\n",
       "    </tr>\n",
       "    <tr>\n",
       "      <th>2021-11-27 23:52:18+00:00</th>\n",
       "      <td>23831</td>\n",
       "      <td>10.402960</td>\n",
       "      <td>23.860001</td>\n",
       "      <td>Fashion Hoodies &amp; Sweatshirts</td>\n",
       "      <td>Women</td>\n",
       "      <td>Allegra K</td>\n",
       "      <td>2021-11-30 11:16:00+00:00</td>\n",
       "      <td>23.860001</td>\n",
       "      <td>Shipped</td>\n",
       "      <td>NaT</td>\n",
       "      <td>9</td>\n",
       "      <td>Spain</td>\n",
       "      <td>F</td>\n",
       "      <td>13.457040</td>\n",
       "      <td>Existing</td>\n",
       "      <td>0.0</td>\n",
       "    </tr>\n",
       "    <tr>\n",
       "      <th>2022-11-01 15:00:58+00:00</th>\n",
       "      <td>7429</td>\n",
       "      <td>10.402960</td>\n",
       "      <td>23.860001</td>\n",
       "      <td>Fashion Hoodies &amp; Sweatshirts</td>\n",
       "      <td>Women</td>\n",
       "      <td>Allegra K</td>\n",
       "      <td>2022-11-03 12:30:00+00:00</td>\n",
       "      <td>23.860001</td>\n",
       "      <td>Returned</td>\n",
       "      <td>2022-11-08 13:00:00+00:00</td>\n",
       "      <td>9</td>\n",
       "      <td>China</td>\n",
       "      <td>F</td>\n",
       "      <td>13.457040</td>\n",
       "      <td>Existing</td>\n",
       "      <td>0.0</td>\n",
       "    </tr>\n",
       "    <tr>\n",
       "      <th>2022-06-21 13:28:02+00:00</th>\n",
       "      <td>92161</td>\n",
       "      <td>10.402960</td>\n",
       "      <td>23.860001</td>\n",
       "      <td>Fashion Hoodies &amp; Sweatshirts</td>\n",
       "      <td>Women</td>\n",
       "      <td>Allegra K</td>\n",
       "      <td>2022-06-24 08:48:00+00:00</td>\n",
       "      <td>23.860001</td>\n",
       "      <td>Returned</td>\n",
       "      <td>2022-06-25 11:36:00+00:00</td>\n",
       "      <td>9</td>\n",
       "      <td>China</td>\n",
       "      <td>F</td>\n",
       "      <td>13.457040</td>\n",
       "      <td>Existing</td>\n",
       "      <td>0.0</td>\n",
       "    </tr>\n",
       "    <tr>\n",
       "      <th>2022-05-22 23:55:46+00:00</th>\n",
       "      <td>18603</td>\n",
       "      <td>10.402960</td>\n",
       "      <td>23.860001</td>\n",
       "      <td>Fashion Hoodies &amp; Sweatshirts</td>\n",
       "      <td>Women</td>\n",
       "      <td>Allegra K</td>\n",
       "      <td>NaT</td>\n",
       "      <td>23.860001</td>\n",
       "      <td>Processing</td>\n",
       "      <td>NaT</td>\n",
       "      <td>9</td>\n",
       "      <td>United States</td>\n",
       "      <td>F</td>\n",
       "      <td>13.457040</td>\n",
       "      <td>Existing</td>\n",
       "      <td>0.0</td>\n",
       "    </tr>\n",
       "  </tbody>\n",
       "</table>\n",
       "<p>101482 rows × 16 columns</p>\n",
       "</div>"
      ],
      "text/plain": [
       "                           user_id       cost  retailprice  \\\n",
       "created_at                                                   \n",
       "2022-04-08 07:13:35+00:00    10684  66.120000   120.000000   \n",
       "2022-09-23 12:15:29+00:00    40576   8.537760    17.639999   \n",
       "2021-04-12 03:18:47+00:00    80811  70.584573   129.990005   \n",
       "2021-10-04 05:22:30+00:00    65684  19.349471    34.990002   \n",
       "2022-12-19 07:09:00+00:00    80051  35.798491    54.990002   \n",
       "...                            ...        ...          ...   \n",
       "2022-07-02 02:20:07+00:00    95045   5.978830    12.430000   \n",
       "2021-11-27 23:52:18+00:00    23831  10.402960    23.860001   \n",
       "2022-11-01 15:00:58+00:00     7429  10.402960    23.860001   \n",
       "2022-06-21 13:28:02+00:00    92161  10.402960    23.860001   \n",
       "2022-05-22 23:55:46+00:00    18603  10.402960    23.860001   \n",
       "\n",
       "                                        product_category department  \\\n",
       "created_at                                                            \n",
       "2022-04-08 07:13:35+00:00            Jumpsuits & Rompers      Women   \n",
       "2022-09-23 12:15:29+00:00            Jumpsuits & Rompers      Women   \n",
       "2021-04-12 03:18:47+00:00            Jumpsuits & Rompers      Women   \n",
       "2021-10-04 05:22:30+00:00            Jumpsuits & Rompers      Women   \n",
       "2022-12-19 07:09:00+00:00                  Clothing Sets      Women   \n",
       "...                                                  ...        ...   \n",
       "2022-07-02 02:20:07+00:00  Fashion Hoodies & Sweatshirts      Women   \n",
       "2021-11-27 23:52:18+00:00  Fashion Hoodies & Sweatshirts      Women   \n",
       "2022-11-01 15:00:58+00:00  Fashion Hoodies & Sweatshirts      Women   \n",
       "2022-06-21 13:28:02+00:00  Fashion Hoodies & Sweatshirts      Women   \n",
       "2022-05-22 23:55:46+00:00  Fashion Hoodies & Sweatshirts      Women   \n",
       "\n",
       "                                      brand                shipped_at  \\\n",
       "created_at                                                              \n",
       "2022-04-08 07:13:35+00:00             Queen 2022-04-10 22:48:00+00:00   \n",
       "2022-09-23 12:15:29+00:00             Jenni 2022-09-25 07:21:00+00:00   \n",
       "2021-04-12 03:18:47+00:00        VA VA VOOM                       NaT   \n",
       "2021-10-04 05:22:30+00:00             MANGO                       NaT   \n",
       "2022-12-19 07:09:00+00:00  Only Necessities                       NaT   \n",
       "...                                     ...                       ...   \n",
       "2022-07-02 02:20:07+00:00         Allegra K                       NaT   \n",
       "2021-11-27 23:52:18+00:00         Allegra K 2021-11-30 11:16:00+00:00   \n",
       "2022-11-01 15:00:58+00:00         Allegra K 2022-11-03 12:30:00+00:00   \n",
       "2022-06-21 13:28:02+00:00         Allegra K 2022-06-24 08:48:00+00:00   \n",
       "2022-05-22 23:55:46+00:00         Allegra K                       NaT   \n",
       "\n",
       "                           sale_price      status                returnedat  \\\n",
       "created_at                                                                    \n",
       "2022-04-08 07:13:35+00:00  120.000000     Shipped                       NaT   \n",
       "2022-09-23 12:15:29+00:00   17.639999    Returned 2022-09-29 11:33:00+00:00   \n",
       "2021-04-12 03:18:47+00:00  129.990005  Processing                       NaT   \n",
       "2021-10-04 05:22:30+00:00   34.990002  Processing                       NaT   \n",
       "2022-12-19 07:09:00+00:00   54.990002   Cancelled                       NaT   \n",
       "...                               ...         ...                       ...   \n",
       "2022-07-02 02:20:07+00:00   12.430000  Processing                       NaT   \n",
       "2021-11-27 23:52:18+00:00   23.860001     Shipped                       NaT   \n",
       "2022-11-01 15:00:58+00:00   23.860001    Returned 2022-11-08 13:00:00+00:00   \n",
       "2022-06-21 13:28:02+00:00   23.860001    Returned 2022-06-25 11:36:00+00:00   \n",
       "2022-05-22 23:55:46+00:00   23.860001  Processing                       NaT   \n",
       "\n",
       "                           distcenter        country gender     profit  \\\n",
       "created_at                                                               \n",
       "2022-04-08 07:13:35+00:00           3         Brasil      F  53.880000   \n",
       "2022-09-23 12:15:29+00:00           8  United States      F   9.102240   \n",
       "2021-04-12 03:18:47+00:00           3          Japan      F  59.405433   \n",
       "2021-10-04 05:22:30+00:00           9          China      F  15.640531   \n",
       "2022-12-19 07:09:00+00:00           4          Spain      F  19.191511   \n",
       "...                               ...            ...    ...        ...   \n",
       "2022-07-02 02:20:07+00:00           9          China      F   6.451170   \n",
       "2021-11-27 23:52:18+00:00           9          Spain      F  13.457040   \n",
       "2022-11-01 15:00:58+00:00           9          China      F  13.457040   \n",
       "2022-06-21 13:28:02+00:00           9          China      F  13.457040   \n",
       "2022-05-22 23:55:46+00:00           9  United States      F  13.457040   \n",
       "\n",
       "                           custType  percentDisc  \n",
       "created_at                                        \n",
       "2022-04-08 07:13:35+00:00  Existing          0.0  \n",
       "2022-09-23 12:15:29+00:00  Existing          0.0  \n",
       "2021-04-12 03:18:47+00:00  Existing          0.0  \n",
       "2021-10-04 05:22:30+00:00  Existing          0.0  \n",
       "2022-12-19 07:09:00+00:00  Existing          0.0  \n",
       "...                             ...          ...  \n",
       "2022-07-02 02:20:07+00:00  Existing          0.0  \n",
       "2021-11-27 23:52:18+00:00  Existing          0.0  \n",
       "2022-11-01 15:00:58+00:00  Existing          0.0  \n",
       "2022-06-21 13:28:02+00:00  Existing          0.0  \n",
       "2022-05-22 23:55:46+00:00  Existing          0.0  \n",
       "\n",
       "[101482 rows x 16 columns]"
      ]
     },
     "execution_count": 61,
     "metadata": {},
     "output_type": "execute_result"
    }
   ],
   "source": [
    "custType_new = orders_daily.query(\"custType == 'New'\")\n",
    "custType_existing =orders_daily.query(\"custType == 'Existing'\")\n",
    "custType_existing\n"
   ]
  },
  {
   "cell_type": "markdown",
   "metadata": {},
   "source": [
    "**get the customer numbers by month for each type**"
   ]
  },
  {
   "cell_type": "code",
   "execution_count": 62,
   "metadata": {},
   "outputs": [],
   "source": [
    "newCust_typeTS = custType_new.groupby([custType_new.index.year, custType_new.index.month])['user_id'].nunique()"
   ]
  },
  {
   "cell_type": "code",
   "execution_count": 63,
   "metadata": {},
   "outputs": [],
   "source": [
    "exist_Cust_typeTS = custType_existing .groupby([custType_existing .index.year, custType_existing .index.month])['user_id'].nunique()"
   ]
  },
  {
   "cell_type": "code",
   "execution_count": 64,
   "metadata": {},
   "outputs": [
    {
     "data": {
      "text/plain": [
       "created_at  created_at\n",
       "2019        1               19\n",
       "            2               43\n",
       "            3               85\n",
       "            4              118\n",
       "            5              169\n",
       "            6              165\n",
       "            7              211\n",
       "            8              247\n",
       "            9              295\n",
       "            10             328\n",
       "            11             383\n",
       "            12             431\n",
       "2020        1              437\n",
       "            2              496\n",
       "            3              576\n",
       "            4              560\n",
       "            5              653\n",
       "            6              604\n",
       "            7              756\n",
       "            8              798\n",
       "            9              874\n",
       "            10             893\n",
       "            11             932\n",
       "            12            1040\n",
       "2021        1             1113\n",
       "            2             1008\n",
       "            3             1195\n",
       "            4             1201\n",
       "            5             1335\n",
       "            6             1407\n",
       "            7             1571\n",
       "            8             1635\n",
       "            9             1750\n",
       "            10            1849\n",
       "            11            1871\n",
       "            12            2048\n",
       "2022        1             2201\n",
       "            2             2038\n",
       "            3             2418\n",
       "            4             2588\n",
       "            5             2750\n",
       "            6             2922\n",
       "            7             3256\n",
       "            8             3594\n",
       "            9             3775\n",
       "            10            4346\n",
       "            11            5048\n",
       "            12            5554\n",
       "Name: user_id, dtype: int64"
      ]
     },
     "execution_count": 64,
     "metadata": {},
     "output_type": "execute_result"
    }
   ],
   "source": [
    "exist_Cust_typeTS"
   ]
  },
  {
   "cell_type": "code",
   "execution_count": 65,
   "metadata": {},
   "outputs": [],
   "source": [
    "new_count = pd.Series(newCust_typeTS)\n",
    "existing_count = pd.Series(exist_Cust_typeTS)\n",
    "custType_TS_counts =pd.concat([newCust_typeTS,exist_Cust_typeTS],axis=1)"
   ]
  },
  {
   "cell_type": "code",
   "execution_count": 66,
   "metadata": {},
   "outputs": [],
   "source": [
    "custType_TS_counts.columns=['new_count', 'existing_count']"
   ]
  },
  {
   "cell_type": "code",
   "execution_count": 67,
   "metadata": {},
   "outputs": [
    {
     "data": {
      "text/html": [
       "<div>\n",
       "<style scoped>\n",
       "    .dataframe tbody tr th:only-of-type {\n",
       "        vertical-align: middle;\n",
       "    }\n",
       "\n",
       "    .dataframe tbody tr th {\n",
       "        vertical-align: top;\n",
       "    }\n",
       "\n",
       "    .dataframe thead th {\n",
       "        text-align: right;\n",
       "    }\n",
       "</style>\n",
       "<table border=\"1\" class=\"dataframe\">\n",
       "  <thead>\n",
       "    <tr style=\"text-align: right;\">\n",
       "      <th></th>\n",
       "      <th></th>\n",
       "      <th>new_count</th>\n",
       "      <th>existing_count</th>\n",
       "    </tr>\n",
       "    <tr>\n",
       "      <th>created_at</th>\n",
       "      <th>created_at</th>\n",
       "      <th></th>\n",
       "      <th></th>\n",
       "    </tr>\n",
       "  </thead>\n",
       "  <tbody>\n",
       "    <tr>\n",
       "      <th rowspan=\"12\" valign=\"top\">2019</th>\n",
       "      <th>1</th>\n",
       "      <td>20</td>\n",
       "      <td>19</td>\n",
       "    </tr>\n",
       "    <tr>\n",
       "      <th>2</th>\n",
       "      <td>53</td>\n",
       "      <td>43</td>\n",
       "    </tr>\n",
       "    <tr>\n",
       "      <th>3</th>\n",
       "      <td>97</td>\n",
       "      <td>85</td>\n",
       "    </tr>\n",
       "    <tr>\n",
       "      <th>4</th>\n",
       "      <td>132</td>\n",
       "      <td>118</td>\n",
       "    </tr>\n",
       "    <tr>\n",
       "      <th>5</th>\n",
       "      <td>167</td>\n",
       "      <td>169</td>\n",
       "    </tr>\n",
       "    <tr>\n",
       "      <th>6</th>\n",
       "      <td>187</td>\n",
       "      <td>165</td>\n",
       "    </tr>\n",
       "    <tr>\n",
       "      <th>7</th>\n",
       "      <td>229</td>\n",
       "      <td>211</td>\n",
       "    </tr>\n",
       "    <tr>\n",
       "      <th>8</th>\n",
       "      <td>263</td>\n",
       "      <td>247</td>\n",
       "    </tr>\n",
       "    <tr>\n",
       "      <th>9</th>\n",
       "      <td>351</td>\n",
       "      <td>295</td>\n",
       "    </tr>\n",
       "    <tr>\n",
       "      <th>10</th>\n",
       "      <td>374</td>\n",
       "      <td>328</td>\n",
       "    </tr>\n",
       "    <tr>\n",
       "      <th>11</th>\n",
       "      <td>415</td>\n",
       "      <td>383</td>\n",
       "    </tr>\n",
       "    <tr>\n",
       "      <th>12</th>\n",
       "      <td>440</td>\n",
       "      <td>431</td>\n",
       "    </tr>\n",
       "    <tr>\n",
       "      <th rowspan=\"12\" valign=\"top\">2020</th>\n",
       "      <th>1</th>\n",
       "      <td>481</td>\n",
       "      <td>437</td>\n",
       "    </tr>\n",
       "    <tr>\n",
       "      <th>2</th>\n",
       "      <td>543</td>\n",
       "      <td>496</td>\n",
       "    </tr>\n",
       "    <tr>\n",
       "      <th>3</th>\n",
       "      <td>606</td>\n",
       "      <td>576</td>\n",
       "    </tr>\n",
       "    <tr>\n",
       "      <th>4</th>\n",
       "      <td>627</td>\n",
       "      <td>560</td>\n",
       "    </tr>\n",
       "    <tr>\n",
       "      <th>5</th>\n",
       "      <td>738</td>\n",
       "      <td>653</td>\n",
       "    </tr>\n",
       "    <tr>\n",
       "      <th>6</th>\n",
       "      <td>711</td>\n",
       "      <td>604</td>\n",
       "    </tr>\n",
       "    <tr>\n",
       "      <th>7</th>\n",
       "      <td>822</td>\n",
       "      <td>756</td>\n",
       "    </tr>\n",
       "    <tr>\n",
       "      <th>8</th>\n",
       "      <td>852</td>\n",
       "      <td>798</td>\n",
       "    </tr>\n",
       "    <tr>\n",
       "      <th>9</th>\n",
       "      <td>975</td>\n",
       "      <td>874</td>\n",
       "    </tr>\n",
       "    <tr>\n",
       "      <th>10</th>\n",
       "      <td>1038</td>\n",
       "      <td>893</td>\n",
       "    </tr>\n",
       "    <tr>\n",
       "      <th>11</th>\n",
       "      <td>1037</td>\n",
       "      <td>932</td>\n",
       "    </tr>\n",
       "    <tr>\n",
       "      <th>12</th>\n",
       "      <td>1165</td>\n",
       "      <td>1040</td>\n",
       "    </tr>\n",
       "    <tr>\n",
       "      <th rowspan=\"12\" valign=\"top\">2021</th>\n",
       "      <th>1</th>\n",
       "      <td>1246</td>\n",
       "      <td>1113</td>\n",
       "    </tr>\n",
       "    <tr>\n",
       "      <th>2</th>\n",
       "      <td>1109</td>\n",
       "      <td>1008</td>\n",
       "    </tr>\n",
       "    <tr>\n",
       "      <th>3</th>\n",
       "      <td>1317</td>\n",
       "      <td>1195</td>\n",
       "    </tr>\n",
       "    <tr>\n",
       "      <th>4</th>\n",
       "      <td>1384</td>\n",
       "      <td>1201</td>\n",
       "    </tr>\n",
       "    <tr>\n",
       "      <th>5</th>\n",
       "      <td>1517</td>\n",
       "      <td>1335</td>\n",
       "    </tr>\n",
       "    <tr>\n",
       "      <th>6</th>\n",
       "      <td>1492</td>\n",
       "      <td>1407</td>\n",
       "    </tr>\n",
       "    <tr>\n",
       "      <th>7</th>\n",
       "      <td>1652</td>\n",
       "      <td>1571</td>\n",
       "    </tr>\n",
       "    <tr>\n",
       "      <th>8</th>\n",
       "      <td>1833</td>\n",
       "      <td>1635</td>\n",
       "    </tr>\n",
       "    <tr>\n",
       "      <th>9</th>\n",
       "      <td>1838</td>\n",
       "      <td>1750</td>\n",
       "    </tr>\n",
       "    <tr>\n",
       "      <th>10</th>\n",
       "      <td>1941</td>\n",
       "      <td>1849</td>\n",
       "    </tr>\n",
       "    <tr>\n",
       "      <th>11</th>\n",
       "      <td>2139</td>\n",
       "      <td>1871</td>\n",
       "    </tr>\n",
       "    <tr>\n",
       "      <th>12</th>\n",
       "      <td>2297</td>\n",
       "      <td>2048</td>\n",
       "    </tr>\n",
       "    <tr>\n",
       "      <th rowspan=\"12\" valign=\"top\">2022</th>\n",
       "      <th>1</th>\n",
       "      <td>2406</td>\n",
       "      <td>2201</td>\n",
       "    </tr>\n",
       "    <tr>\n",
       "      <th>2</th>\n",
       "      <td>2373</td>\n",
       "      <td>2038</td>\n",
       "    </tr>\n",
       "    <tr>\n",
       "      <th>3</th>\n",
       "      <td>2706</td>\n",
       "      <td>2418</td>\n",
       "    </tr>\n",
       "    <tr>\n",
       "      <th>4</th>\n",
       "      <td>2876</td>\n",
       "      <td>2588</td>\n",
       "    </tr>\n",
       "    <tr>\n",
       "      <th>5</th>\n",
       "      <td>3114</td>\n",
       "      <td>2750</td>\n",
       "    </tr>\n",
       "    <tr>\n",
       "      <th>6</th>\n",
       "      <td>3311</td>\n",
       "      <td>2922</td>\n",
       "    </tr>\n",
       "    <tr>\n",
       "      <th>7</th>\n",
       "      <td>3577</td>\n",
       "      <td>3256</td>\n",
       "    </tr>\n",
       "    <tr>\n",
       "      <th>8</th>\n",
       "      <td>4129</td>\n",
       "      <td>3594</td>\n",
       "    </tr>\n",
       "    <tr>\n",
       "      <th>9</th>\n",
       "      <td>4337</td>\n",
       "      <td>3775</td>\n",
       "    </tr>\n",
       "    <tr>\n",
       "      <th>10</th>\n",
       "      <td>5196</td>\n",
       "      <td>4346</td>\n",
       "    </tr>\n",
       "    <tr>\n",
       "      <th>11</th>\n",
       "      <td>6134</td>\n",
       "      <td>5048</td>\n",
       "    </tr>\n",
       "    <tr>\n",
       "      <th>12</th>\n",
       "      <td>7540</td>\n",
       "      <td>5554</td>\n",
       "    </tr>\n",
       "  </tbody>\n",
       "</table>\n",
       "</div>"
      ],
      "text/plain": [
       "                       new_count  existing_count\n",
       "created_at created_at                           \n",
       "2019       1                  20              19\n",
       "           2                  53              43\n",
       "           3                  97              85\n",
       "           4                 132             118\n",
       "           5                 167             169\n",
       "           6                 187             165\n",
       "           7                 229             211\n",
       "           8                 263             247\n",
       "           9                 351             295\n",
       "           10                374             328\n",
       "           11                415             383\n",
       "           12                440             431\n",
       "2020       1                 481             437\n",
       "           2                 543             496\n",
       "           3                 606             576\n",
       "           4                 627             560\n",
       "           5                 738             653\n",
       "           6                 711             604\n",
       "           7                 822             756\n",
       "           8                 852             798\n",
       "           9                 975             874\n",
       "           10               1038             893\n",
       "           11               1037             932\n",
       "           12               1165            1040\n",
       "2021       1                1246            1113\n",
       "           2                1109            1008\n",
       "           3                1317            1195\n",
       "           4                1384            1201\n",
       "           5                1517            1335\n",
       "           6                1492            1407\n",
       "           7                1652            1571\n",
       "           8                1833            1635\n",
       "           9                1838            1750\n",
       "           10               1941            1849\n",
       "           11               2139            1871\n",
       "           12               2297            2048\n",
       "2022       1                2406            2201\n",
       "           2                2373            2038\n",
       "           3                2706            2418\n",
       "           4                2876            2588\n",
       "           5                3114            2750\n",
       "           6                3311            2922\n",
       "           7                3577            3256\n",
       "           8                4129            3594\n",
       "           9                4337            3775\n",
       "           10               5196            4346\n",
       "           11               6134            5048\n",
       "           12               7540            5554"
      ]
     },
     "execution_count": 67,
     "metadata": {},
     "output_type": "execute_result"
    }
   ],
   "source": [
    "custType_TS_counts"
   ]
  },
  {
   "cell_type": "code",
   "execution_count": 68,
   "metadata": {},
   "outputs": [],
   "source": [
    "#calculate growth rate\n",
    "custType_TS_counts['Cust_Retention_percent'] =custType_TS_counts['existing_count']/(custType_TS_counts['new_count']+custType_TS_counts['existing_count'])*100\n",
    "    "
   ]
  },
  {
   "cell_type": "code",
   "execution_count": 69,
   "metadata": {},
   "outputs": [
    {
     "data": {
      "text/html": [
       "<div>\n",
       "<style scoped>\n",
       "    .dataframe tbody tr th:only-of-type {\n",
       "        vertical-align: middle;\n",
       "    }\n",
       "\n",
       "    .dataframe tbody tr th {\n",
       "        vertical-align: top;\n",
       "    }\n",
       "\n",
       "    .dataframe thead th {\n",
       "        text-align: right;\n",
       "    }\n",
       "</style>\n",
       "<table border=\"1\" class=\"dataframe\">\n",
       "  <thead>\n",
       "    <tr style=\"text-align: right;\">\n",
       "      <th></th>\n",
       "      <th></th>\n",
       "      <th>new_count</th>\n",
       "      <th>existing_count</th>\n",
       "      <th>Cust_Retention_percent</th>\n",
       "    </tr>\n",
       "    <tr>\n",
       "      <th>created_at</th>\n",
       "      <th>created_at</th>\n",
       "      <th></th>\n",
       "      <th></th>\n",
       "      <th></th>\n",
       "    </tr>\n",
       "  </thead>\n",
       "  <tbody>\n",
       "    <tr>\n",
       "      <th rowspan=\"12\" valign=\"top\">2019</th>\n",
       "      <th>1</th>\n",
       "      <td>20</td>\n",
       "      <td>19</td>\n",
       "      <td>48.717949</td>\n",
       "    </tr>\n",
       "    <tr>\n",
       "      <th>2</th>\n",
       "      <td>53</td>\n",
       "      <td>43</td>\n",
       "      <td>44.791667</td>\n",
       "    </tr>\n",
       "    <tr>\n",
       "      <th>3</th>\n",
       "      <td>97</td>\n",
       "      <td>85</td>\n",
       "      <td>46.703297</td>\n",
       "    </tr>\n",
       "    <tr>\n",
       "      <th>4</th>\n",
       "      <td>132</td>\n",
       "      <td>118</td>\n",
       "      <td>47.200000</td>\n",
       "    </tr>\n",
       "    <tr>\n",
       "      <th>5</th>\n",
       "      <td>167</td>\n",
       "      <td>169</td>\n",
       "      <td>50.297619</td>\n",
       "    </tr>\n",
       "    <tr>\n",
       "      <th>6</th>\n",
       "      <td>187</td>\n",
       "      <td>165</td>\n",
       "      <td>46.875000</td>\n",
       "    </tr>\n",
       "    <tr>\n",
       "      <th>7</th>\n",
       "      <td>229</td>\n",
       "      <td>211</td>\n",
       "      <td>47.954545</td>\n",
       "    </tr>\n",
       "    <tr>\n",
       "      <th>8</th>\n",
       "      <td>263</td>\n",
       "      <td>247</td>\n",
       "      <td>48.431373</td>\n",
       "    </tr>\n",
       "    <tr>\n",
       "      <th>9</th>\n",
       "      <td>351</td>\n",
       "      <td>295</td>\n",
       "      <td>45.665635</td>\n",
       "    </tr>\n",
       "    <tr>\n",
       "      <th>10</th>\n",
       "      <td>374</td>\n",
       "      <td>328</td>\n",
       "      <td>46.723647</td>\n",
       "    </tr>\n",
       "    <tr>\n",
       "      <th>11</th>\n",
       "      <td>415</td>\n",
       "      <td>383</td>\n",
       "      <td>47.994987</td>\n",
       "    </tr>\n",
       "    <tr>\n",
       "      <th>12</th>\n",
       "      <td>440</td>\n",
       "      <td>431</td>\n",
       "      <td>49.483352</td>\n",
       "    </tr>\n",
       "    <tr>\n",
       "      <th rowspan=\"12\" valign=\"top\">2020</th>\n",
       "      <th>1</th>\n",
       "      <td>481</td>\n",
       "      <td>437</td>\n",
       "      <td>47.603486</td>\n",
       "    </tr>\n",
       "    <tr>\n",
       "      <th>2</th>\n",
       "      <td>543</td>\n",
       "      <td>496</td>\n",
       "      <td>47.738210</td>\n",
       "    </tr>\n",
       "    <tr>\n",
       "      <th>3</th>\n",
       "      <td>606</td>\n",
       "      <td>576</td>\n",
       "      <td>48.730964</td>\n",
       "    </tr>\n",
       "    <tr>\n",
       "      <th>4</th>\n",
       "      <td>627</td>\n",
       "      <td>560</td>\n",
       "      <td>47.177759</td>\n",
       "    </tr>\n",
       "    <tr>\n",
       "      <th>5</th>\n",
       "      <td>738</td>\n",
       "      <td>653</td>\n",
       "      <td>46.944644</td>\n",
       "    </tr>\n",
       "    <tr>\n",
       "      <th>6</th>\n",
       "      <td>711</td>\n",
       "      <td>604</td>\n",
       "      <td>45.931559</td>\n",
       "    </tr>\n",
       "    <tr>\n",
       "      <th>7</th>\n",
       "      <td>822</td>\n",
       "      <td>756</td>\n",
       "      <td>47.908745</td>\n",
       "    </tr>\n",
       "    <tr>\n",
       "      <th>8</th>\n",
       "      <td>852</td>\n",
       "      <td>798</td>\n",
       "      <td>48.363636</td>\n",
       "    </tr>\n",
       "    <tr>\n",
       "      <th>9</th>\n",
       "      <td>975</td>\n",
       "      <td>874</td>\n",
       "      <td>47.268794</td>\n",
       "    </tr>\n",
       "    <tr>\n",
       "      <th>10</th>\n",
       "      <td>1038</td>\n",
       "      <td>893</td>\n",
       "      <td>46.245469</td>\n",
       "    </tr>\n",
       "    <tr>\n",
       "      <th>11</th>\n",
       "      <td>1037</td>\n",
       "      <td>932</td>\n",
       "      <td>47.333672</td>\n",
       "    </tr>\n",
       "    <tr>\n",
       "      <th>12</th>\n",
       "      <td>1165</td>\n",
       "      <td>1040</td>\n",
       "      <td>47.165533</td>\n",
       "    </tr>\n",
       "    <tr>\n",
       "      <th rowspan=\"12\" valign=\"top\">2021</th>\n",
       "      <th>1</th>\n",
       "      <td>1246</td>\n",
       "      <td>1113</td>\n",
       "      <td>47.181009</td>\n",
       "    </tr>\n",
       "    <tr>\n",
       "      <th>2</th>\n",
       "      <td>1109</td>\n",
       "      <td>1008</td>\n",
       "      <td>47.614549</td>\n",
       "    </tr>\n",
       "    <tr>\n",
       "      <th>3</th>\n",
       "      <td>1317</td>\n",
       "      <td>1195</td>\n",
       "      <td>47.571656</td>\n",
       "    </tr>\n",
       "    <tr>\n",
       "      <th>4</th>\n",
       "      <td>1384</td>\n",
       "      <td>1201</td>\n",
       "      <td>46.460348</td>\n",
       "    </tr>\n",
       "    <tr>\n",
       "      <th>5</th>\n",
       "      <td>1517</td>\n",
       "      <td>1335</td>\n",
       "      <td>46.809257</td>\n",
       "    </tr>\n",
       "    <tr>\n",
       "      <th>6</th>\n",
       "      <td>1492</td>\n",
       "      <td>1407</td>\n",
       "      <td>48.533977</td>\n",
       "    </tr>\n",
       "    <tr>\n",
       "      <th>7</th>\n",
       "      <td>1652</td>\n",
       "      <td>1571</td>\n",
       "      <td>48.743407</td>\n",
       "    </tr>\n",
       "    <tr>\n",
       "      <th>8</th>\n",
       "      <td>1833</td>\n",
       "      <td>1635</td>\n",
       "      <td>47.145329</td>\n",
       "    </tr>\n",
       "    <tr>\n",
       "      <th>9</th>\n",
       "      <td>1838</td>\n",
       "      <td>1750</td>\n",
       "      <td>48.773690</td>\n",
       "    </tr>\n",
       "    <tr>\n",
       "      <th>10</th>\n",
       "      <td>1941</td>\n",
       "      <td>1849</td>\n",
       "      <td>48.786280</td>\n",
       "    </tr>\n",
       "    <tr>\n",
       "      <th>11</th>\n",
       "      <td>2139</td>\n",
       "      <td>1871</td>\n",
       "      <td>46.658354</td>\n",
       "    </tr>\n",
       "    <tr>\n",
       "      <th>12</th>\n",
       "      <td>2297</td>\n",
       "      <td>2048</td>\n",
       "      <td>47.134638</td>\n",
       "    </tr>\n",
       "    <tr>\n",
       "      <th rowspan=\"12\" valign=\"top\">2022</th>\n",
       "      <th>1</th>\n",
       "      <td>2406</td>\n",
       "      <td>2201</td>\n",
       "      <td>47.775125</td>\n",
       "    </tr>\n",
       "    <tr>\n",
       "      <th>2</th>\n",
       "      <td>2373</td>\n",
       "      <td>2038</td>\n",
       "      <td>46.202675</td>\n",
       "    </tr>\n",
       "    <tr>\n",
       "      <th>3</th>\n",
       "      <td>2706</td>\n",
       "      <td>2418</td>\n",
       "      <td>47.189696</td>\n",
       "    </tr>\n",
       "    <tr>\n",
       "      <th>4</th>\n",
       "      <td>2876</td>\n",
       "      <td>2588</td>\n",
       "      <td>47.364568</td>\n",
       "    </tr>\n",
       "    <tr>\n",
       "      <th>5</th>\n",
       "      <td>3114</td>\n",
       "      <td>2750</td>\n",
       "      <td>46.896317</td>\n",
       "    </tr>\n",
       "    <tr>\n",
       "      <th>6</th>\n",
       "      <td>3311</td>\n",
       "      <td>2922</td>\n",
       "      <td>46.879512</td>\n",
       "    </tr>\n",
       "    <tr>\n",
       "      <th>7</th>\n",
       "      <td>3577</td>\n",
       "      <td>3256</td>\n",
       "      <td>47.651105</td>\n",
       "    </tr>\n",
       "    <tr>\n",
       "      <th>8</th>\n",
       "      <td>4129</td>\n",
       "      <td>3594</td>\n",
       "      <td>46.536320</td>\n",
       "    </tr>\n",
       "    <tr>\n",
       "      <th>9</th>\n",
       "      <td>4337</td>\n",
       "      <td>3775</td>\n",
       "      <td>46.535996</td>\n",
       "    </tr>\n",
       "    <tr>\n",
       "      <th>10</th>\n",
       "      <td>5196</td>\n",
       "      <td>4346</td>\n",
       "      <td>45.546007</td>\n",
       "    </tr>\n",
       "    <tr>\n",
       "      <th>11</th>\n",
       "      <td>6134</td>\n",
       "      <td>5048</td>\n",
       "      <td>45.143981</td>\n",
       "    </tr>\n",
       "    <tr>\n",
       "      <th>12</th>\n",
       "      <td>7540</td>\n",
       "      <td>5554</td>\n",
       "      <td>42.416374</td>\n",
       "    </tr>\n",
       "  </tbody>\n",
       "</table>\n",
       "</div>"
      ],
      "text/plain": [
       "                       new_count  existing_count  Cust_Retention_percent\n",
       "created_at created_at                                                   \n",
       "2019       1                  20              19               48.717949\n",
       "           2                  53              43               44.791667\n",
       "           3                  97              85               46.703297\n",
       "           4                 132             118               47.200000\n",
       "           5                 167             169               50.297619\n",
       "           6                 187             165               46.875000\n",
       "           7                 229             211               47.954545\n",
       "           8                 263             247               48.431373\n",
       "           9                 351             295               45.665635\n",
       "           10                374             328               46.723647\n",
       "           11                415             383               47.994987\n",
       "           12                440             431               49.483352\n",
       "2020       1                 481             437               47.603486\n",
       "           2                 543             496               47.738210\n",
       "           3                 606             576               48.730964\n",
       "           4                 627             560               47.177759\n",
       "           5                 738             653               46.944644\n",
       "           6                 711             604               45.931559\n",
       "           7                 822             756               47.908745\n",
       "           8                 852             798               48.363636\n",
       "           9                 975             874               47.268794\n",
       "           10               1038             893               46.245469\n",
       "           11               1037             932               47.333672\n",
       "           12               1165            1040               47.165533\n",
       "2021       1                1246            1113               47.181009\n",
       "           2                1109            1008               47.614549\n",
       "           3                1317            1195               47.571656\n",
       "           4                1384            1201               46.460348\n",
       "           5                1517            1335               46.809257\n",
       "           6                1492            1407               48.533977\n",
       "           7                1652            1571               48.743407\n",
       "           8                1833            1635               47.145329\n",
       "           9                1838            1750               48.773690\n",
       "           10               1941            1849               48.786280\n",
       "           11               2139            1871               46.658354\n",
       "           12               2297            2048               47.134638\n",
       "2022       1                2406            2201               47.775125\n",
       "           2                2373            2038               46.202675\n",
       "           3                2706            2418               47.189696\n",
       "           4                2876            2588               47.364568\n",
       "           5                3114            2750               46.896317\n",
       "           6                3311            2922               46.879512\n",
       "           7                3577            3256               47.651105\n",
       "           8                4129            3594               46.536320\n",
       "           9                4337            3775               46.535996\n",
       "           10               5196            4346               45.546007\n",
       "           11               6134            5048               45.143981\n",
       "           12               7540            5554               42.416374"
      ]
     },
     "execution_count": 69,
     "metadata": {},
     "output_type": "execute_result"
    }
   ],
   "source": [
    "custType_TS_counts"
   ]
  },
  {
   "cell_type": "code",
   "execution_count": 70,
   "metadata": {},
   "outputs": [
    {
     "data": {
      "image/png": "[encoded data removed]",
      "text/plain": [
       "<Figure size 720x360 with 2 Axes>"
      ]
     },
     "metadata": {},
     "output_type": "display_data"
    }
   ],
   "source": [
    "#comparing the two new rates, growth rate of new customers vs reorders\n",
    "fig, axs = plt.subplots(2, sharex=True, figsize=(10,5))\n",
    "for ax in axs.flat:\n",
    "    ax.set(xlabel='months since opening')\n",
    "for ax in axs.flat:\n",
    "    ax.label_outer()\n",
    "growth_new = (np.exp(np.diff(np.log(custType_TS_counts['new_count'])))-1)*100\n",
    "x=np.arange(1,47)\n",
    "growth_new= growth_new[1:]\n",
    "axs[0].set_title('Growth rate of new customers')\n",
    "axs[0].plot(x,growth_new)\n",
    "growth_existing = (np.exp(np.diff(np.log(custType_TS_counts['existing_count'])))-1)*100\n",
    "growth_existing= growth_existing[1:]\n",
    "axs[1].set_title('Rate of reorders from existing customers')\n",
    "axs[1].plot(x,growth_existing)\n",
    "plt.savefig('growthrate')\n"
   ]
  },
  {
   "cell_type": "code",
   "execution_count": 71,
   "metadata": {},
   "outputs": [
    {
     "data": {
      "text/plain": [
       "<AxesSubplot:xlabel='created_at,created_at'>"
      ]
     },
     "execution_count": 71,
     "metadata": {},
     "output_type": "execute_result"
    },
    {
     "data": {
      "image/png": "[encoded data removed]",
      "text/plain": [
       "<Figure size 1440x360 with 1 Axes>"
      ]
     },
     "metadata": {},
     "output_type": "display_data"
    }
   ],
   "source": [
    "custType_TS_counts['Cust_Retention_percent'].plot(figsize=(20,5))"
   ]
  },
  {
   "cell_type": "markdown",
   "metadata": {},
   "source": [
    "**it appears that there is a 15%increase of customers each month! However, reorder rate is low!  So, Let's look at the average amount per order**"
   ]
  },
  {
   "cell_type": "code",
   "execution_count": 72,
   "metadata": {},
   "outputs": [],
   "source": [
    "#average order per month for new customers\n",
    "average_orderfornewTS = custType_new.groupby([custType_new.index.year, custType_new.index.month])['sale_price'].mean()"
   ]
  },
  {
   "cell_type": "code",
   "execution_count": 73,
   "metadata": {},
   "outputs": [
    {
     "data": {
      "text/plain": [
       "<Figure size 720x360 with 0 Axes>"
      ]
     },
     "execution_count": 73,
     "metadata": {},
     "output_type": "execute_result"
    },
    {
     "data": {
      "text/plain": [
       "<Figure size 720x360 with 0 Axes>"
      ]
     },
     "metadata": {},
     "output_type": "display_data"
    }
   ],
   "source": [
    "plt.figure(figsize=(10,5))"
   ]
  },
  {
   "cell_type": "code",
   "execution_count": 74,
   "metadata": {},
   "outputs": [],
   "source": [
    "avg_fornew = average_orderfornewTS.to_frame()"
   ]
  },
  {
   "cell_type": "code",
   "execution_count": 75,
   "metadata": {},
   "outputs": [
    {
     "data": {
      "text/plain": [
       "59.272190648680045"
      ]
     },
     "execution_count": 75,
     "metadata": {},
     "output_type": "execute_result"
    }
   ],
   "source": [
    "custType_new.groupby([custType_new.index.year, custType_new.index.month, 'user_id'])['sale_price'].mean().mean()"
   ]
  },
  {
   "cell_type": "code",
   "execution_count": 76,
   "metadata": {},
   "outputs": [],
   "source": [
    "#average order per month for existing customers\n",
    "average_orderforexistingTS = custType_existing.groupby([custType_existing.index.year, custType_existing.index.month])['sale_price'].mean()"
   ]
  },
  {
   "cell_type": "code",
   "execution_count": 77,
   "metadata": {},
   "outputs": [],
   "source": [
    "avg_forexisting = average_orderforexistingTS.to_frame()"
   ]
  },
  {
   "cell_type": "code",
   "execution_count": 78,
   "metadata": {},
   "outputs": [
    {
     "name": "stdout",
     "output_type": "stream",
     "text": [
      "avg per order for new:  sale_price    60.692828\n",
      "dtype: float64\n",
      "avg per order for existing: sale_price    58.898686\n",
      "dtype: float64\n"
     ]
    }
   ],
   "source": [
    "print('avg per order for new: ',avg_fornew.mean())\n",
    "print('avg per order for existing:',avg_forexisting.mean())"
   ]
  },
  {
   "cell_type": "code",
   "execution_count": null,
   "metadata": {},
   "outputs": [],
   "source": []
  },
  {
   "cell_type": "code",
   "execution_count": 79,
   "metadata": {},
   "outputs": [
    {
     "data": {
      "image/png": "[encoded data removed]",
      "text/plain": [
       "<Figure size 1440x360 with 2 Axes>"
      ]
     },
     "metadata": {},
     "output_type": "display_data"
    }
   ],
   "source": [
    "fig, axes = plt.subplots(nrows=2, ncols=1, figsize=(20,5))\n",
    "\n",
    "avg_fornew.plot(kind='hist', bins=10, color='r',ax=axes[1])\n",
    "avg_forexisting.plot(kind='hist', bins=10, color='b',ax=axes[0])\n",
    "axes[1].set_title('avg per order for new customers', fontsize=16)\n",
    "axes[0].set_title('avg per order for existing customers',fontsize=16)\n",
    "for ax in axes.flat:\n",
    "    ax.label_outer()\n",
    "plt.savefig('AverageperOrder')"
   ]
  },
  {
   "cell_type": "markdown",
   "metadata": {},
   "source": [
    "**Let's conduct a ttest to compare them**"
   ]
  },
  {
   "cell_type": "code",
   "execution_count": 80,
   "metadata": {},
   "outputs": [
    {
     "data": {
      "text/plain": [
       "Ttest_indResult(statistic=array([2.26145758]), pvalue=array([0.02603616]))"
      ]
     },
     "execution_count": 80,
     "metadata": {},
     "output_type": "execute_result"
    }
   ],
   "source": [
    "#we are testing the null hypothesis that there is no difference between the avg_fornew cust and avg_for existing.\n",
    "stats.ttest_ind(avg_fornew,avg_forexisting)"
   ]
  },
  {
   "cell_type": "markdown",
   "metadata": {},
   "source": [
    "**failed to reject the null hypothesis. there is no difference between avg per order for new customers and avg per order for existing customers** **My original data had a different pvalue(greater than 0.05, everytime i query p=value changes**"
   ]
  },
  {
   "cell_type": "code",
   "execution_count": 81,
   "metadata": {},
   "outputs": [],
   "source": [
    "#revenue analysis\n",
    "revenuerforexistingTS = custType_existing.groupby([custType_existing.index.year, custType_existing.index.month])['sale_price'].sum()"
   ]
  },
  {
   "cell_type": "code",
   "execution_count": 82,
   "metadata": {},
   "outputs": [],
   "source": [
    "revenuefornewTS = custType_new.groupby([custType_new.index.year, custType_new.index.month])['sale_price'].sum()"
   ]
  },
  {
   "cell_type": "code",
   "execution_count": 83,
   "metadata": {},
   "outputs": [
    {
     "data": {
      "text/plain": [
       "<AxesSubplot:xlabel='created_at,created_at'>"
      ]
     },
     "execution_count": 83,
     "metadata": {},
     "output_type": "execute_result"
    },
    {
     "data": {
      "image/png": "[encoded data removed]",
      "text/plain": [
       "<Figure size 1440x720 with 1 Axes>"
      ]
     },
     "metadata": {},
     "output_type": "display_data"
    }
   ],
   "source": [
    "revenuerforexistingTS.plot(figsize=(20,10),marker='o')"
   ]
  },
  {
   "cell_type": "code",
   "execution_count": 84,
   "metadata": {},
   "outputs": [
    {
     "data": {
      "text/plain": [
       "<AxesSubplot:xlabel='created_at,created_at'>"
      ]
     },
     "execution_count": 84,
     "metadata": {},
     "output_type": "execute_result"
    },
    {
     "data": {
      "image/png": "[encoded data removed]",
      "text/plain": [
       "<Figure size 1440x720 with 1 Axes>"
      ]
     },
     "metadata": {},
     "output_type": "display_data"
    }
   ],
   "source": [
    "revenuefornewTS.plot(figsize=(20,10),marker='o')"
   ]
  },
  {
   "cell_type": "markdown",
   "metadata": {},
   "source": [
    "**revenue for existing and new customers is on the rise**"
   ]
  },
  {
   "cell_type": "markdown",
   "metadata": {},
   "source": [
    "# *Traffic analysis*"
   ]
  },
  {
   "cell_type": "code",
   "execution_count": 85,
   "metadata": {},
   "outputs": [
    {
     "data": {
      "image/png": "[encoded data removed]",
      "text/plain": [
       "<Figure size 576x360 with 1 Axes>"
      ]
     },
     "metadata": {},
     "output_type": "display_data"
    }
   ],
   "source": [
    "#initial exploration of traffic\n",
    "dfevents['traffic_source'].value_counts().plot(kind='pie', figsize=(8,5),autopct='%1.1f%%')\n",
    "plt.title('Traffic Source')\n",
    "plt.savefig('TrafficSource')"
   ]
  },
  {
   "cell_type": "markdown",
   "metadata": {},
   "source": [
    "**Almost half are coming via Email while around 30% coming through ads**"
   ]
  },
  {
   "cell_type": "code",
   "execution_count": 86,
   "metadata": {},
   "outputs": [
    {
     "data": {
      "text/plain": [
       "<AxesSubplot:ylabel='event_type'>"
      ]
     },
     "execution_count": 86,
     "metadata": {},
     "output_type": "execute_result"
    },
    {
     "data": {
      "image/png": "[encoded data removed]",
      "text/plain": [
       "<Figure size 576x360 with 1 Axes>"
      ]
     },
     "metadata": {},
     "output_type": "display_data"
    }
   ],
   "source": [
    "dfevents['event_type'].value_counts().plot(kind='pie', figsize=(8,5),autopct='%1.1f%%')"
   ]
  },
  {
   "cell_type": "markdown",
   "metadata": {},
   "source": [
    "**only 7.5% go on to purchase**"
   ]
  },
  {
   "cell_type": "code",
   "execution_count": 87,
   "metadata": {},
   "outputs": [],
   "source": [
    "#merging orders with events we merged with timestamp \n",
    "dfwithordersandevents= orders_daily.merge(dfevents, how='inner',left_on='created_at', right_on='created_at')"
   ]
  },
  {
   "cell_type": "code",
   "execution_count": 88,
   "metadata": {},
   "outputs": [
    {
     "data": {
      "text/plain": [
       "(100707, 29)"
      ]
     },
     "execution_count": 88,
     "metadata": {},
     "output_type": "execute_result"
    }
   ],
   "source": [
    "dfwithordersandevents.shape"
   ]
  },
  {
   "cell_type": "code",
   "execution_count": 89,
   "metadata": {},
   "outputs": [
    {
     "data": {
      "text/plain": [
       "<AxesSubplot:ylabel='traffic_source'>"
      ]
     },
     "execution_count": 89,
     "metadata": {},
     "output_type": "execute_result"
    },
    {
     "data": {
      "image/png": "[encoded data removed]",
      "text/plain": [
       "<Figure size 576x360 with 1 Axes>"
      ]
     },
     "metadata": {},
     "output_type": "display_data"
    }
   ],
   "source": [
    "dfwithordersandevents['traffic_source'].value_counts().plot(kind='pie', figsize=(8,5),autopct='%1.1f%%')"
   ]
  },
  {
   "cell_type": "code",
   "execution_count": 90,
   "metadata": {},
   "outputs": [
    {
     "data": {
      "text/plain": [
       "<AxesSubplot:ylabel='traffic_source'>"
      ]
     },
     "execution_count": 90,
     "metadata": {},
     "output_type": "execute_result"
    },
    {
     "data": {
      "image/png": "[encoded data removed]",
      "text/plain": [
       "<Figure size 1080x720 with 1 Axes>"
      ]
     },
     "metadata": {},
     "output_type": "display_data"
    }
   ],
   "source": [
    "dfdailyevents = dfevents.groupby(['traffic_source','event_type' ]).size().to_frame()\n",
    "dfdailyevents.unstack(level=1).plot(kind='barh',stacked=True, figsize=(15,10))"
   ]
  },
  {
   "cell_type": "code",
   "execution_count": 91,
   "metadata": {},
   "outputs": [
    {
     "data": {
      "text/plain": [
       "created_at          datetime64[ns, UTC]\n",
       "user_id_x                         Int64\n",
       "cost                            float64\n",
       "retailprice                     float64\n",
       "product_category                 object\n",
       "department                       object\n",
       "brand                            object\n",
       "shipped_at          datetime64[ns, UTC]\n",
       "sale_price                      float64\n",
       "status                           object\n",
       "returnedat          datetime64[ns, UTC]\n",
       "distcenter                        Int64\n",
       "country                          object\n",
       "gender                           object\n",
       "profit                          float64\n",
       "custType                         object\n",
       "percentDisc                     float64\n",
       "id                                Int64\n",
       "user_id_y                         Int64\n",
       "sequence_number                   Int64\n",
       "session_id                       object\n",
       "ip_address                       object\n",
       "city                             object\n",
       "state                            object\n",
       "postal_code                      object\n",
       "browser                          object\n",
       "traffic_source                   object\n",
       "uri                              object\n",
       "event_type                       object\n",
       "dtype: object"
      ]
     },
     "execution_count": 91,
     "metadata": {},
     "output_type": "execute_result"
    }
   ],
   "source": [
    "dfwithordersandevents.dtypes"
   ]
  },
  {
   "cell_type": "code",
   "execution_count": 92,
   "metadata": {},
   "outputs": [
    {
     "data": {
      "text/plain": [
       "<AxesSubplot:xlabel='traffic_source'>"
      ]
     },
     "execution_count": 92,
     "metadata": {},
     "output_type": "execute_result"
    },
    {
     "data": {
      "image/png": "[encoded data removed]",
      "text/plain": [
       "<Figure size 432x288 with 1 Axes>"
      ]
     },
     "metadata": {},
     "output_type": "display_data"
    }
   ],
   "source": [
    "#count for customers by source and type\n",
    "dfwithordersandevents.groupby(['traffic_source','custType'])['user_id_x'].count().unstack(level=1).plot(kind='bar')"
   ]
  },
  {
   "cell_type": "markdown",
   "metadata": {},
   "source": [
    "**many existing customers visit the website via email**"
   ]
  },
  {
   "cell_type": "code",
   "execution_count": 93,
   "metadata": {},
   "outputs": [],
   "source": [
    "dfdailyevents = dfevents.groupby(['traffic_source','event_type' ])['ip_address'].nunique().to_frame()"
   ]
  },
  {
   "cell_type": "code",
   "execution_count": 94,
   "metadata": {},
   "outputs": [
    {
     "data": {
      "text/html": [
       "<div>\n",
       "<style scoped>\n",
       "    .dataframe tbody tr th:only-of-type {\n",
       "        vertical-align: middle;\n",
       "    }\n",
       "\n",
       "    .dataframe tbody tr th {\n",
       "        vertical-align: top;\n",
       "    }\n",
       "\n",
       "    .dataframe thead th {\n",
       "        text-align: right;\n",
       "    }\n",
       "</style>\n",
       "<table border=\"1\" class=\"dataframe\">\n",
       "  <thead>\n",
       "    <tr style=\"text-align: right;\">\n",
       "      <th></th>\n",
       "      <th></th>\n",
       "      <th>ip_address</th>\n",
       "    </tr>\n",
       "    <tr>\n",
       "      <th>traffic_source</th>\n",
       "      <th>event_type</th>\n",
       "      <th></th>\n",
       "    </tr>\n",
       "  </thead>\n",
       "  <tbody>\n",
       "    <tr>\n",
       "      <th rowspan=\"6\" valign=\"top\">Adwords</th>\n",
       "      <th>cancel</th>\n",
       "      <td>37628</td>\n",
       "    </tr>\n",
       "    <tr>\n",
       "      <th>cart</th>\n",
       "      <td>128997</td>\n",
       "    </tr>\n",
       "    <tr>\n",
       "      <th>department</th>\n",
       "      <td>128957</td>\n",
       "    </tr>\n",
       "    <tr>\n",
       "      <th>home</th>\n",
       "      <td>26146</td>\n",
       "    </tr>\n",
       "    <tr>\n",
       "      <th>product</th>\n",
       "      <td>204019</td>\n",
       "    </tr>\n",
       "    <tr>\n",
       "      <th>purchase</th>\n",
       "      <td>54274</td>\n",
       "    </tr>\n",
       "    <tr>\n",
       "      <th rowspan=\"6\" valign=\"top\">Email</th>\n",
       "      <th>cancel</th>\n",
       "      <td>56408</td>\n",
       "    </tr>\n",
       "    <tr>\n",
       "      <th>cart</th>\n",
       "      <td>194873</td>\n",
       "    </tr>\n",
       "    <tr>\n",
       "      <th>department</th>\n",
       "      <td>194765</td>\n",
       "    </tr>\n",
       "    <tr>\n",
       "      <th>home</th>\n",
       "      <td>39242</td>\n",
       "    </tr>\n",
       "    <tr>\n",
       "      <th>product</th>\n",
       "      <td>307465</td>\n",
       "    </tr>\n",
       "    <tr>\n",
       "      <th>purchase</th>\n",
       "      <td>81894</td>\n",
       "    </tr>\n",
       "    <tr>\n",
       "      <th rowspan=\"6\" valign=\"top\">Facebook</th>\n",
       "      <th>cancel</th>\n",
       "      <td>12465</td>\n",
       "    </tr>\n",
       "    <tr>\n",
       "      <th>cart</th>\n",
       "      <td>42997</td>\n",
       "    </tr>\n",
       "    <tr>\n",
       "      <th>department</th>\n",
       "      <td>43029</td>\n",
       "    </tr>\n",
       "    <tr>\n",
       "      <th>home</th>\n",
       "      <td>8620</td>\n",
       "    </tr>\n",
       "    <tr>\n",
       "      <th>product</th>\n",
       "      <td>67848</td>\n",
       "    </tr>\n",
       "    <tr>\n",
       "      <th>purchase</th>\n",
       "      <td>18009</td>\n",
       "    </tr>\n",
       "    <tr>\n",
       "      <th rowspan=\"6\" valign=\"top\">Organic</th>\n",
       "      <th>cancel</th>\n",
       "      <td>6298</td>\n",
       "    </tr>\n",
       "    <tr>\n",
       "      <th>cart</th>\n",
       "      <td>21422</td>\n",
       "    </tr>\n",
       "    <tr>\n",
       "      <th>department</th>\n",
       "      <td>21413</td>\n",
       "    </tr>\n",
       "    <tr>\n",
       "      <th>home</th>\n",
       "      <td>4381</td>\n",
       "    </tr>\n",
       "    <tr>\n",
       "      <th>product</th>\n",
       "      <td>33982</td>\n",
       "    </tr>\n",
       "    <tr>\n",
       "      <th>purchase</th>\n",
       "      <td>9041</td>\n",
       "    </tr>\n",
       "    <tr>\n",
       "      <th rowspan=\"6\" valign=\"top\">YouTube</th>\n",
       "      <th>cancel</th>\n",
       "      <td>12358</td>\n",
       "    </tr>\n",
       "    <tr>\n",
       "      <th>cart</th>\n",
       "      <td>42830</td>\n",
       "    </tr>\n",
       "    <tr>\n",
       "      <th>department</th>\n",
       "      <td>42882</td>\n",
       "    </tr>\n",
       "    <tr>\n",
       "      <th>home</th>\n",
       "      <td>8646</td>\n",
       "    </tr>\n",
       "    <tr>\n",
       "      <th>product</th>\n",
       "      <td>67946</td>\n",
       "    </tr>\n",
       "    <tr>\n",
       "      <th>purchase</th>\n",
       "      <td>18050</td>\n",
       "    </tr>\n",
       "  </tbody>\n",
       "</table>\n",
       "</div>"
      ],
      "text/plain": [
       "                           ip_address\n",
       "traffic_source event_type            \n",
       "Adwords        cancel           37628\n",
       "               cart            128997\n",
       "               department      128957\n",
       "               home             26146\n",
       "               product         204019\n",
       "               purchase         54274\n",
       "Email          cancel           56408\n",
       "               cart            194873\n",
       "               department      194765\n",
       "               home             39242\n",
       "               product         307465\n",
       "               purchase         81894\n",
       "Facebook       cancel           12465\n",
       "               cart             42997\n",
       "               department       43029\n",
       "               home              8620\n",
       "               product          67848\n",
       "               purchase         18009\n",
       "Organic        cancel            6298\n",
       "               cart             21422\n",
       "               department       21413\n",
       "               home              4381\n",
       "               product          33982\n",
       "               purchase          9041\n",
       "YouTube        cancel           12358\n",
       "               cart             42830\n",
       "               department       42882\n",
       "               home              8646\n",
       "               product          67946\n",
       "               purchase         18050"
      ]
     },
     "execution_count": 94,
     "metadata": {},
     "output_type": "execute_result"
    }
   ],
   "source": [
    "dfdailyevents"
   ]
  },
  {
   "cell_type": "code",
   "execution_count": 95,
   "metadata": {},
   "outputs": [
    {
     "data": {
      "image/png": "[encoded data removed]",
      "text/plain": [
       "<Figure size 1080x720 with 1 Axes>"
      ]
     },
     "metadata": {},
     "output_type": "display_data"
    }
   ],
   "source": [
    "dfdailyevents.unstack(level=1).plot(kind='barh',stacked=True, figsize=(15,10), mark_right=True)\n",
    "plt.title('Traffic source by event type', fontsize=16)\n",
    "plt.savefig('TrafficSourceEventype')"
   ]
  },
  {
   "cell_type": "markdown",
   "metadata": {},
   "source": [
    "**small percentage go on to purchase items**\n",
    "**Many add items to cart but do not finish the purchase**"
   ]
  },
  {
   "cell_type": "code",
   "execution_count": null,
   "metadata": {},
   "outputs": [],
   "source": []
  }
 ],
 "metadata": {
  "kernelspec": {
   "display_name": "Python 3",
   "language": "python",
   "name": "python3"
  },
  "language_info": {
   "codemirror_mode": {
    "name": "ipython",
    "version": 3
   },
   "file_extension": ".py",
   "mimetype": "text/x-python",
   "name": "python",
   "nbconvert_exporter": "python",
   "pygments_lexer": "ipython3",
   "version": "3.8.5"
  }
 },
 "nbformat": 4,
 "nbformat_minor": 4
}
